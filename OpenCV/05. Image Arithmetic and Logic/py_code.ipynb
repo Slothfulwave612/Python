{
 "cells": [
  {
   "cell_type": "markdown",
   "metadata": {},
   "source": [
    "## Image Arithmetic and Logic\n",
    "   * **Author:** Slothflwave612"
   ]
  },
  {
   "cell_type": "markdown",
   "metadata": {},
   "source": [
    "### Modules Required:\n",
    "\n",
    "1. **Numpy:** NumPy is a library for the Python programming language, adding support for large, multi-dimensional arrays and matrices, along with a large collection of high-level mathematical functions to operate on these arrays.\n",
    "\n",
    "\n",
    "2. **cv2:** OpenCV-Python is a library of Python bindings designed to solve computer vision problems."
   ]
  },
  {
   "cell_type": "code",
   "execution_count": 2,
   "metadata": {},
   "outputs": [],
   "source": [
    "## importing required modules\n",
    "import numpy as np\n",
    "import cv2"
   ]
  },
  {
   "cell_type": "code",
   "execution_count": 2,
   "metadata": {},
   "outputs": [
    {
     "name": "stdout",
     "output_type": "stream",
     "text": [
      "Numpy version: 1.14.3\n",
      "cv2 version: 3.4.1\n"
     ]
    }
   ],
   "source": [
    "## module versions\n",
    "print('Numpy version: {}'.format(np.__version__))\n",
    "print('cv2 version: {}'.format(cv2.__version__))"
   ]
  },
  {
   "cell_type": "markdown",
   "metadata": {},
   "source": [
    "**1. Adding Two Images:**"
   ]
  },
  {
   "cell_type": "code",
   "execution_count": 3,
   "metadata": {},
   "outputs": [],
   "source": [
    "## reading the images\n",
    "img_1 = cv2.imread('3D-Matplotlib.png', cv2.IMREAD_COLOR)\n",
    "img_2 = cv2.imread('mainsvmimage.png', cv2.IMREAD_COLOR)\n",
    "\n",
    "## adding the images\n",
    "add = img_1 + img_2\n",
    "\n",
    "## displaying the resulting image\n",
    "cv2.imshow('add', add)\n",
    "cv2.waitKey(0)\n",
    "cv2.destroyAllWindows()"
   ]
  },
  {
   "cell_type": "markdown",
   "metadata": {},
   "source": [
    "**2. Using cv2.add():**"
   ]
  },
  {
   "cell_type": "code",
   "execution_count": 4,
   "metadata": {},
   "outputs": [],
   "source": [
    "## reading the images\n",
    "img_1 = cv2.imread('3D-Matplotlib.png', cv2.IMREAD_COLOR)\n",
    "img_2 = cv2.imread('mainsvmimage.png', cv2.IMREAD_COLOR)\n",
    "\n",
    "## adding using add() method, adds the corresponding pixel values\n",
    "add = cv2.add(img_1, img_2)\n",
    "\n",
    "## displaying the resulting image\n",
    "cv2.imshow('add', add)\n",
    "cv2.waitKey(0)\n",
    "cv2.destroyAllWindows()"
   ]
  },
  {
   "cell_type": "markdown",
   "metadata": {},
   "source": [
    "**3. Converting the background of Python logo to black the the logo to white:**"
   ]
  },
  {
   "cell_type": "code",
   "execution_count": 9,
   "metadata": {},
   "outputs": [],
   "source": [
    "## reading in the image\n",
    "img = cv2.imread('mainlogo.png', cv2.IMREAD_COLOR)\n",
    "\n",
    "## converting to grayscale\n",
    "img2gray = cv2.cvtColor(img, cv2.COLOR_BGR2GRAY)\n",
    "ret, mask = cv2.threshold(img2gray, 220, 255, cv2.THRESH_BINARY_INV)\n",
    "\n",
    "## display the image\n",
    "cv2.imshow('mask', mask)\n",
    "cv2.waitKey(0)\n",
    "cv2.destroyAllWindows()"
   ]
  },
  {
   "cell_type": "markdown",
   "metadata": {},
   "source": [
    "**4. Imposing one image into the other:**"
   ]
  },
  {
   "cell_type": "code",
   "execution_count": 23,
   "metadata": {},
   "outputs": [],
   "source": [
    "## reading the images\n",
    "img_1 = cv2.imread('3D-Matplotlib.png', cv2.IMREAD_COLOR)\n",
    "img_2 = cv2.imread('mainlogo.png', cv2.IMREAD_COLOR)\n",
    "\n",
    "## getting the rows, cols, channel values\n",
    "rows, cols, channels = img_2.shape\n",
    "roi = img_1[0: rows, 0: cols]\n",
    "\n",
    "## converting to gray scale\n",
    "img2gray = cv2.cvtColor(img_2, cv2.COLOR_BGR2GRAY)\n",
    "\n",
    "## applying a threshold to get a black background and the main image as white\n",
    "ret, mask = cv2.threshold(img2gray, 220, 255, cv2.THRESH_BINARY_INV)\n",
    "\n",
    "## white -> black, black -> white\n",
    "mask_inv = cv2.bitwise_not(mask)\n",
    "\n",
    "img_1_bg = cv2.bitwise_and(roi, roi, mask=mask_inv)\n",
    "img_2_fg = cv2.bitwise_and(img_2, img_2, mask=mask)\n",
    "\n",
    "dst = cv2.add(img_1_bg, img_2_fg)\n",
    "img_1[0: rows, 0: cols] = dst\n",
    "\n",
    "cv2.imshow('img_1', img_1)\n",
    "cv2.waitKey(0)\n",
    "cv2.destroyAllWindows()"
   ]
  }
 ],
 "metadata": {
  "kernelspec": {
   "display_name": "Python 3",
   "language": "python",
   "name": "python3"
  },
  "language_info": {
   "codemirror_mode": {
    "name": "ipython",
    "version": 3
   },
   "file_extension": ".py",
   "mimetype": "text/x-python",
   "name": "python",
   "nbconvert_exporter": "python",
   "pygments_lexer": "ipython3",
   "version": "3.5.5"
  }
 },
 "nbformat": 4,
 "nbformat_minor": 2
}
