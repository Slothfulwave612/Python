{
 "cells": [
  {
   "cell_type": "markdown",
   "metadata": {},
   "source": [
    "## Loading Video Source\n",
    "   * **Author:** Slothflwave612"
   ]
  },
  {
   "cell_type": "markdown",
   "metadata": {},
   "source": [
    "### Modules Required:\n",
    "\n",
    "1. **cv2:** OpenCV-Python is a library of Python bindings designed to solve computer vision problems."
   ]
  },
  {
   "cell_type": "code",
   "execution_count": 2,
   "metadata": {},
   "outputs": [],
   "source": [
    "## importing required modules\n",
    "import cv2"
   ]
  },
  {
   "cell_type": "code",
   "execution_count": 6,
   "metadata": {},
   "outputs": [
    {
     "name": "stdout",
     "output_type": "stream",
     "text": [
      "cv2 version: 3.4.1\n"
     ]
    }
   ],
   "source": [
    "## module versions\n",
    "print('cv2 version: {}'.format(cv2.__version__))"
   ]
  },
  {
   "cell_type": "markdown",
   "metadata": {},
   "source": [
    "**1. Drawing a line on an image:**"
   ]
  },
  {
   "cell_type": "code",
   "execution_count": 143,
   "metadata": {},
   "outputs": [],
   "source": [
    "## reading in the image\n",
    "img = cv2.imread('the_ball.jpg', cv2.IMREAD_COLOR)\n",
    "\n",
    "## drawing a white line\n",
    "cv2.line(img, pt1=(150,150), pt2=(550,550), color=(255, 255, 255), thickness=2)\n",
    "\n",
    "## showing the image\n",
    "cv2.imshow('image', img)\n",
    "cv2.waitKey(0)\n",
    "cv2.destroyAllWindows()"
   ]
  },
  {
   "cell_type": "markdown",
   "metadata": {},
   "source": [
    "**2. Drawing a rectangle:**"
   ]
  },
  {
   "cell_type": "code",
   "execution_count": 165,
   "metadata": {},
   "outputs": [],
   "source": [
    "## read the image\n",
    "img = cv2.imread('the_ball.jpg', cv2.IMREAD_COLOR)\n",
    "\n",
    "## using rectangle method\n",
    "cv2.rectangle(img, pt1=(300, 200), pt2=(650, 550), color=(0, 255, 0), thickness=2)\n",
    "\n",
    "## showing the image\n",
    "cv2.imshow('image', img)\n",
    "cv2.waitKey(0)\n",
    "cv2.destroyAllWindows()"
   ]
  },
  {
   "cell_type": "markdown",
   "metadata": {},
   "source": [
    "**3. Drawing a circle:**"
   ]
  },
  {
   "cell_type": "code",
   "execution_count": 166,
   "metadata": {},
   "outputs": [],
   "source": [
    "## reading in the image\n",
    "## img = cv2.imread('the_ball.jpg', cv2.IMREAD_COLOR)\n",
    "\n",
    "## using circle method, if thickness is -1 it will fill up the circle\n",
    "cv2.circle(img, center=(480,385), radius=180, color=(0, 0, 255), thickness=2)\n",
    "\n",
    "## showing the image\n",
    "cv2.imshow('image', img)\n",
    "cv2.waitKey(0)\n",
    "cv2.destroyAllWindows()"
   ]
  },
  {
   "cell_type": "markdown",
   "metadata": {},
   "source": [
    "**4. Drawing a ploygon:**"
   ]
  },
  {
   "cell_type": "code",
   "execution_count": 168,
   "metadata": {},
   "outputs": [],
   "source": [
    "## reading in the image\n",
    "## img = cv2.imread('the_ball.jpg', cv2.IMREAD_COLOR)\n",
    "\n",
    "## defining points for our polygon\n",
    "pts = np.array([[700, 300], [600, 550], [390, 570], [200, 100]])\n",
    "\n",
    "## plotting the polygon\n",
    "cv2.polylines(img, pts=[pts], isClosed=True, color=(255, 0, 255), thickness=3)\n",
    "\n",
    "## showing the image\n",
    "cv2.imshow('image', img)\n",
    "cv2.waitKey(0)\n",
    "cv2.destroyAllWindows()"
   ]
  },
  {
   "cell_type": "markdown",
   "metadata": {},
   "source": [
    "**5. Adding Text:**"
   ]
  },
  {
   "cell_type": "code",
   "execution_count": 167,
   "metadata": {},
   "outputs": [],
   "source": [
    "## reading in the image\n",
    "## img = cv2.imread('the_ball.jpg', cv2.IMREAD_COLOR)\n",
    "\n",
    "## font for our text\n",
    "font = cv2.FONT_HERSHEY_COMPLEX_SMALL\n",
    "\n",
    "## putting the text in\n",
    "cv2.putText(img, text='It\\'s a ball!!', org=(400, 100), fontFace=font, fontScale=1, color=(0, 255, 255), thickness=1)\n",
    "\n",
    "## showing the image\n",
    "cv2.imshow('image', img)\n",
    "cv2.waitKey(0)\n",
    "cv2.destroyAllWindows()"
   ]
  },
  {
   "cell_type": "markdown",
   "metadata": {},
   "source": [
    "**1. Opening webcam for capturing the video:**"
   ]
  },
  {
   "cell_type": "code",
   "execution_count": 3,
   "metadata": {},
   "outputs": [],
   "source": [
    "## opening the webcam\n",
    "cam = cv2.VideoCapture(0)\n",
    "\n",
    "while True:\n",
    "    ret, frame = cam.read()        \n",
    "    ## ret contains True or False value\n",
    "    ## frame contains the fram values\n",
    "    \n",
    "    cv2.imshow('frame', frame)\n",
    "    \n",
    "    if cv2.waitKey(1) & 0xFF == ord('q'):\n",
    "        break\n",
    "\n",
    "## closes the device closely\n",
    "cam.release()\n",
    "cv2.destroyAllWindows()"
   ]
  },
  {
   "cell_type": "markdown",
   "metadata": {},
   "source": [
    "**2. Opening multiple video capturing windows:**"
   ]
  },
  {
   "cell_type": "code",
   "execution_count": 4,
   "metadata": {},
   "outputs": [],
   "source": [
    "## opening the webcam\n",
    "cam = cv2.VideoCapture(0)\n",
    "\n",
    "while True:\n",
    "    ret, frame = cam.read()\n",
    "    gray = cv2.cvtColor(frame, cv2.COLOR_BGR2GRAY)\n",
    "    \n",
    "    cv2.imshow('frame', frame)\n",
    "    cv2.imshow('gray', gray)\n",
    "    \n",
    "    if cv2.waitKey(1) & 0xFF == ord('q'):\n",
    "        break\n",
    "    \n",
    "## colosing the window and webcam\n",
    "cam.release()\n",
    "cv2.destroyAllWindows()"
   ]
  },
  {
   "cell_type": "markdown",
   "metadata": {},
   "source": [
    "**3. Saving in the video output:**"
   ]
  },
  {
   "cell_type": "code",
   "execution_count": 5,
   "metadata": {},
   "outputs": [],
   "source": [
    "## opening the webcam\n",
    "cam = cv2.VideoCapture(0)\n",
    "fourcc = cv2.VideoWriter_fourcc(*'XVID')\n",
    "out = cv2.VideoWriter('output.avi', fourcc, 20.0, (640, 480))\n",
    "\n",
    "while True:\n",
    "    ret, frame = cam.read()\n",
    "    out.write(frame)\n",
    "    cv2.imshow('frame', frame)\n",
    "    \n",
    "    if cv2.waitKey(1) & 0xFF == ord('q'):\n",
    "        break\n",
    "\n",
    "## close webcam and windows\n",
    "cam.release()\n",
    "out.release()\n",
    "cv2.destroyAllWindows()"
   ]
  }
 ],
 "metadata": {
  "kernelspec": {
   "display_name": "Python 3",
   "language": "python",
   "name": "python3"
  }
 },
 "nbformat": 4,
 "nbformat_minor": 2
}
