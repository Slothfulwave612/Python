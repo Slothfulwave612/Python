{
 "cells": [
  {
   "cell_type": "markdown",
   "metadata": {},
   "source": [
    "## Drawing and Writing on Image\n",
    "   * **Author:** Slothflwave612"
   ]
  },
  {
   "cell_type": "markdown",
   "metadata": {},
   "source": [
    "### Modules Required:\n",
    "\n",
    "1. **Matplotlib:** Matplotlib is a plotting library for the Python programming language and its numerical mathematics extension NumPy. \n",
    "\n",
    "\n",
    "2. **cv2:** OpenCV-Python is a library of Python bindings designed to solve computer vision problems."
   ]
  },
  {
   "cell_type": "code",
   "execution_count": 2,
   "metadata": {},
   "outputs": [],
   "source": [
    "## importing required modules\n",
    "import numpy as np\n",
    "import cv2"
   ]
  },
  {
   "cell_type": "code",
   "execution_count": 18,
   "metadata": {},
   "outputs": [
    {
     "name": "stdout",
     "output_type": "stream",
     "text": [
      "Numpy version: 1.14.3\n",
      "cv2 version: 3.4.1\n"
     ]
    }
   ],
   "source": [
    "## module versions\n",
    "print('Numpy version: {}'.format(np.__version__))\n",
    "print('cv2 version: {}'.format(cv2.__version__))"
   ]
  },
  {
   "cell_type": "markdown",
   "metadata": {},
   "source": [
    "**1. Drawing a line on an image:**"
   ]
  },
  {
   "cell_type": "code",
   "execution_count": 143,
   "metadata": {},
   "outputs": [],
   "source": [
    "## reading in the image\n",
    "img = cv2.imread('the_ball.jpg', cv2.IMREAD_COLOR)\n",
    "\n",
    "## drawing a white line\n",
    "cv2.line(img, pt1=(150,150), pt2=(550,550), color=(255, 255, 255), thickness=2)\n",
    "\n",
    "## showing the image\n",
    "cv2.imshow('image', img)\n",
    "cv2.waitKey(0)\n",
    "cv2.destroyAllWindows()"
   ]
  },
  {
   "cell_type": "markdown",
   "metadata": {},
   "source": [
    "**2. Drawing a rectangle:**"
   ]
  },
  {
   "cell_type": "code",
   "execution_count": 165,
   "metadata": {},
   "outputs": [],
   "source": [
    "## read the image\n",
    "img = cv2.imread('the_ball.jpg', cv2.IMREAD_COLOR)\n",
    "\n",
    "## using rectangle method\n",
    "cv2.rectangle(img, pt1=(300, 200), pt2=(650, 550), color=(0, 255, 0), thickness=2)\n",
    "\n",
    "## showing the image\n",
    "cv2.imshow('image', img)\n",
    "cv2.waitKey(0)\n",
    "cv2.destroyAllWindows()"
   ]
  },
  {
   "cell_type": "markdown",
   "metadata": {},
   "source": [
    "**3. Drawing a circle:**"
   ]
  },
  {
   "cell_type": "code",
   "execution_count": 166,
   "metadata": {},
   "outputs": [],
   "source": [
    "## reading in the image\n",
    "## img = cv2.imread('the_ball.jpg', cv2.IMREAD_COLOR)\n",
    "\n",
    "## using circle method, if thickness is -1 it will fill up the circle\n",
    "cv2.circle(img, center=(480,385), radius=180, color=(0, 0, 255), thickness=2)\n",
    "\n",
    "## showing the image\n",
    "cv2.imshow('image', img)\n",
    "cv2.waitKey(0)\n",
    "cv2.destroyAllWindows()"
   ]
  },
  {
   "cell_type": "markdown",
   "metadata": {},
   "source": [
    "**4. Drawing a ploygon:**"
   ]
  },
  {
   "cell_type": "code",
   "execution_count": 168,
   "metadata": {},
   "outputs": [],
   "source": [
    "## reading in the image\n",
    "## img = cv2.imread('the_ball.jpg', cv2.IMREAD_COLOR)\n",
    "\n",
    "## defining points for our polygon\n",
    "pts = np.array([[700, 300], [600, 550], [390, 570], [200, 100]])\n",
    "\n",
    "## plotting the polygon\n",
    "cv2.polylines(img, pts=[pts], isClosed=True, color=(255, 0, 255), thickness=3)\n",
    "\n",
    "## showing the image\n",
    "cv2.imshow('image', img)\n",
    "cv2.waitKey(0)\n",
    "cv2.destroyAllWindows()"
   ]
  },
  {
   "cell_type": "markdown",
   "metadata": {},
   "source": [
    "**5. Adding Text:**"
   ]
  },
  {
   "cell_type": "code",
   "execution_count": 167,
   "metadata": {},
   "outputs": [],
   "source": [
    "## reading in the image\n",
    "## img = cv2.imread('the_ball.jpg', cv2.IMREAD_COLOR)\n",
    "\n",
    "## font for our text\n",
    "font = cv2.FONT_HERSHEY_COMPLEX_SMALL\n",
    "\n",
    "## putting the text in\n",
    "cv2.putText(img, text='It\\'s a ball!!', org=(400, 100), fontFace=font, fontScale=1, color=(0, 255, 255), thickness=1)\n",
    "\n",
    "## showing the image\n",
    "cv2.imshow('image', img)\n",
    "cv2.waitKey(0)\n",
    "cv2.destroyAllWindows()"
   ]
  }
 ],
 "metadata": {
  "kernelspec": {
   "display_name": "Python 3",
   "language": "python",
   "name": "python3"
  },
  "language_info": {
   "codemirror_mode": {
    "name": "ipython",
    "version": 3
   },
   "file_extension": ".py",
   "mimetype": "text/x-python",
   "name": "python",
   "nbconvert_exporter": "python",
   "pygments_lexer": "ipython3",
   "version": "3.5.5"
  }
 },
 "nbformat": 4,
 "nbformat_minor": 2
}
