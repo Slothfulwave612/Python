{
 "cells": [
  {
   "cell_type": "markdown",
   "metadata": {},
   "source": [
    "## Thresholding\n",
    "   * **Author:** Slothflwave612"
   ]
  },
  {
   "cell_type": "markdown",
   "metadata": {},
   "source": [
    "### Modules Required:\n",
    "\n",
    "1. **Numpy:** NumPy is a library for the Python programming language, adding support for large, multi-dimensional arrays and matrices, along with a large collection of high-level mathematical functions to operate on these arrays.\n",
    "\n",
    "\n",
    "2. **cv2:** OpenCV-Python is a library of Python bindings designed to solve computer vision problems."
   ]
  },
  {
   "cell_type": "code",
   "execution_count": 1,
   "metadata": {},
   "outputs": [],
   "source": [
    "## importing required modules\n",
    "import numpy as np\n",
    "import cv2"
   ]
  },
  {
   "cell_type": "code",
   "execution_count": 2,
   "metadata": {},
   "outputs": [
    {
     "name": "stdout",
     "output_type": "stream",
     "text": [
      "Numpy version: 1.14.3\n",
      "cv2 version: 3.4.1\n"
     ]
    }
   ],
   "source": [
    "## module versions\n",
    "print('Numpy version: {}'.format(np.__version__))\n",
    "print('cv2 version: {}'.format(cv2.__version__))"
   ]
  },
  {
   "cell_type": "markdown",
   "metadata": {},
   "source": [
    "**1. Applying threshold in a low light image:**"
   ]
  },
  {
   "cell_type": "code",
   "execution_count": 10,
   "metadata": {},
   "outputs": [],
   "source": [
    "## reading in the image\n",
    "img = cv2.imread('bookpage.jpg', cv2.IMREAD_COLOR)\n",
    "\n",
    "## applying threshold\n",
    "ret, thresh = cv2.threshold(img, 9, 255, cv2.THRESH_BINARY)\n",
    "\n",
    "## displaying the image\n",
    "cv2.imshow('original', img)\n",
    "cv2.imshow('threshold', thresh)\n",
    "cv2.waitKey(0)\n",
    "cv2.destroyAllWindows()"
   ]
  },
  {
   "cell_type": "markdown",
   "metadata": {},
   "source": [
    "**2. Applying threshold to low light image(gray-scale):**"
   ]
  },
  {
   "cell_type": "code",
   "execution_count": 13,
   "metadata": {},
   "outputs": [],
   "source": [
    "## reading in the image\n",
    "img = cv2.imread('bookpage.jpg', cv2.IMREAD_COLOR)\n",
    "\n",
    "## applying threshold\n",
    "ret, thresh = cv2.threshold(img, 7, 255, cv2.THRESH_BINARY)\n",
    "\n",
    "## converting to grayscale\n",
    "img2gray = cv2.cvtColor(img, cv2.COLOR_BGR2GRAY)\n",
    "\n",
    "## applying threshold on grayscale image\n",
    "ret_2, thresh_2 = cv2.threshold(img2gray, 7, 255, cv2.THRESH_BINARY)\n",
    "\n",
    "## displaying the image\n",
    "cv2.imshow('thresh_1', thresh)\n",
    "cv2.imshow('thresh_2', thresh_2)\n",
    "cv2.waitKey(0)\n",
    "cv2.destroyAllWindows()"
   ]
  },
  {
   "cell_type": "markdown",
   "metadata": {},
   "source": [
    "**3. Applying Gaussian Threshold:**"
   ]
  },
  {
   "cell_type": "code",
   "execution_count": 30,
   "metadata": {},
   "outputs": [],
   "source": [
    "## reading in the image\n",
    "img = cv2.imread('bookpage.jpg', cv2.IMREAD_COLOR)\n",
    "\n",
    "## applying threshold\n",
    "ret, thresh = cv2.threshold(img, 7, 255, cv2.THRESH_BINARY)\n",
    "\n",
    "## converting to grayscale\n",
    "img2gray = cv2.cvtColor(img, cv2.COLOR_BGR2GRAY)\n",
    "\n",
    "## applying threshold on img2gray\n",
    "ret_2, thresh_2 = cv2.threshold(img2gray, 7, 255, cv2.THRESH_BINARY)\n",
    "\n",
    "## applying gaussian threshold \n",
    "## blocksize will be an odd number\n",
    "gaus_thresh = cv2.adaptiveThreshold(img2gray, 255, cv2.ADAPTIVE_THRESH_GAUSSIAN_C, cv2.THRESH_BINARY, 55, 1)\n",
    "\n",
    "## displaying images\n",
    "cv2.imshow('image', img)\n",
    "cv2.imshow('thresh_1', thresh)\n",
    "cv2.imshow('thresh_2', thresh_2)\n",
    "cv2.imshow('gaus_thresh', gaus_thresh)\n",
    "cv2.waitKey(0)\n",
    "cv2.destroyAllWindows()"
   ]
  }
 ],
 "metadata": {
  "kernelspec": {
   "display_name": "Python 3",
   "language": "python",
   "name": "python3"
  },
  "language_info": {
   "codemirror_mode": {
    "name": "ipython",
    "version": 3
   },
   "file_extension": ".py",
   "mimetype": "text/x-python",
   "name": "python",
   "nbconvert_exporter": "python",
   "pygments_lexer": "ipython3",
   "version": "3.5.5"
  }
 },
 "nbformat": 4,
 "nbformat_minor": 2
}
