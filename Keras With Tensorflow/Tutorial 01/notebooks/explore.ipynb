{
 "metadata": {
  "language_info": {
   "codemirror_mode": {
    "name": "ipython",
    "version": 3
   },
   "file_extension": ".py",
   "mimetype": "text/x-python",
   "name": "python",
   "nbconvert_exporter": "python",
   "pygments_lexer": "ipython3",
   "version": "3.7.6-final"
  },
  "orig_nbformat": 2,
  "kernelspec": {
   "name": "python3",
   "display_name": "Python 3"
  }
 },
 "nbformat": 4,
 "nbformat_minor": 2,
 "cells": [
  {
   "cell_type": "code",
   "execution_count": 34,
   "metadata": {},
   "outputs": [],
   "source": [
    "%run ../src/create_data.py"
   ]
  },
  {
   "cell_type": "code",
   "execution_count": 39,
   "metadata": {},
   "outputs": [],
   "source": [
    "train_samples, train_labels = data()"
   ]
  },
  {
   "cell_type": "code",
   "execution_count": 40,
   "metadata": {},
   "outputs": [
    {
     "output_type": "execute_result",
     "data": {
      "text/plain": "([63, 75, 59, 70, 64, 88, 63, 75, 24, 94], [1, 0, 1, 0, 1, 0, 1, 0, 1, 0])"
     },
     "metadata": {},
     "execution_count": 40
    }
   ],
   "source": [
    "## displaying only first 10 values from both the list\n",
    "train_samples[:10], train_labels[:10]"
   ]
  },
  {
   "cell_type": "code",
   "execution_count": 37,
   "metadata": {},
   "outputs": [],
   "source": [
    "%run ../src/processing.py"
   ]
  },
  {
   "cell_type": "code",
   "execution_count": 38,
   "metadata": {},
   "outputs": [],
   "source": [
    "scaled_train_samples, train_labels = process(train_samples, train_labels)"
   ]
  },
  {
   "cell_type": "code",
   "execution_count": 7,
   "metadata": {},
   "outputs": [
    {
     "output_type": "execute_result",
     "data": {
      "text/plain": "(numpy.ndarray, numpy.ndarray)"
     },
     "metadata": {},
     "execution_count": 7
    }
   ],
   "source": [
    "type(scaled_train_samples), type(train_labels)"
   ]
  },
  {
   "cell_type": "code",
   "execution_count": 8,
   "metadata": {},
   "outputs": [
    {
     "output_type": "execute_result",
     "data": {
      "text/plain": "array([[0.13793103],\n       [0.72413793],\n       [0.93103448],\n       ...,\n       [0.86206897],\n       [0.83908046],\n       [0.24137931]])"
     },
     "metadata": {},
     "execution_count": 8
    }
   ],
   "source": [
    "scaled_train_samples"
   ]
  },
  {
   "cell_type": "code",
   "execution_count": 9,
   "metadata": {},
   "outputs": [
    {
     "output_type": "execute_result",
     "data": {
      "text/plain": "array([0, 1, 1, ..., 1, 1, 0])"
     },
     "metadata": {},
     "execution_count": 9
    }
   ],
   "source": [
    "train_labels"
   ]
  },
  {
   "cell_type": "code",
   "execution_count": 44,
   "metadata": {},
   "outputs": [],
   "source": [
    "%run ../src/train.py"
   ]
  },
  {
   "cell_type": "code",
   "execution_count": 11,
   "metadata": {
    "tags": []
   },
   "outputs": [
    {
     "output_type": "stream",
     "name": "stdout",
     "text": "Number of GPU availabe: 1\n"
    }
   ],
   "source": [
    "test_gpu()"
   ]
  },
  {
   "cell_type": "code",
   "execution_count": 12,
   "metadata": {},
   "outputs": [],
   "source": [
    "model = create_model()"
   ]
  },
  {
   "cell_type": "code",
   "execution_count": 13,
   "metadata": {},
   "outputs": [
    {
     "output_type": "execute_result",
     "data": {
      "text/plain": "<tensorflow.python.keras.engine.sequential.Sequential at 0x7f5f52393a90>"
     },
     "metadata": {},
     "execution_count": 13
    }
   ],
   "source": [
    "model"
   ]
  },
  {
   "cell_type": "code",
   "execution_count": 14,
   "metadata": {
    "tags": []
   },
   "outputs": [
    {
     "output_type": "stream",
     "name": "stdout",
     "text": "Model: \"sequential\"\n_________________________________________________________________\nLayer (type)                 Output Shape              Param #   \n=================================================================\ndense (Dense)                (None, 16)                32        \n_________________________________________________________________\ndense_1 (Dense)              (None, 32)                544       \n_________________________________________________________________\ndense_2 (Dense)              (None, 1)                 33        \n=================================================================\nTotal params: 609\nTrainable params: 609\nNon-trainable params: 0\n_________________________________________________________________\n"
    }
   ],
   "source": [
    "model.summary()"
   ]
  },
  {
   "cell_type": "code",
   "execution_count": 15,
   "metadata": {
    "tags": []
   },
   "outputs": [
    {
     "output_type": "stream",
     "name": "stdout",
     "text": "Epoch 1/30\n210/210 - 1s - loss: 0.7017 - accuracy: 0.4305\nEpoch 2/30\n210/210 - 1s - loss: 0.6818 - accuracy: 0.6538\nEpoch 3/30\n210/210 - 1s - loss: 0.6654 - accuracy: 0.6962\nEpoch 4/30\n210/210 - 1s - loss: 0.6458 - accuracy: 0.7319\nEpoch 5/30\n210/210 - 1s - loss: 0.6265 - accuracy: 0.7529\nEpoch 6/30\n210/210 - 1s - loss: 0.6055 - accuracy: 0.7781\nEpoch 7/30\n210/210 - 1s - loss: 0.5853 - accuracy: 0.8029\nEpoch 8/30\n210/210 - 1s - loss: 0.5651 - accuracy: 0.8214\nEpoch 9/30\n210/210 - 1s - loss: 0.5431 - accuracy: 0.8310\nEpoch 10/30\n210/210 - 1s - loss: 0.5205 - accuracy: 0.8424\nEpoch 11/30\n210/210 - 1s - loss: 0.4980 - accuracy: 0.8576\nEpoch 12/30\n210/210 - 1s - loss: 0.4759 - accuracy: 0.8700\nEpoch 13/30\n210/210 - 1s - loss: 0.4546 - accuracy: 0.8819\nEpoch 14/30\n210/210 - 1s - loss: 0.4345 - accuracy: 0.8843\nEpoch 15/30\n210/210 - 1s - loss: 0.4158 - accuracy: 0.8962\nEpoch 16/30\n210/210 - 1s - loss: 0.3988 - accuracy: 0.8986\nEpoch 17/30\n210/210 - 1s - loss: 0.3831 - accuracy: 0.9000\nEpoch 18/30\n210/210 - 1s - loss: 0.3689 - accuracy: 0.9067\nEpoch 19/30\n210/210 - 1s - loss: 0.3561 - accuracy: 0.9095\nEpoch 20/30\n210/210 - 1s - loss: 0.3448 - accuracy: 0.9124\nEpoch 21/30\n210/210 - 1s - loss: 0.3350 - accuracy: 0.9205\nEpoch 22/30\n210/210 - 1s - loss: 0.3262 - accuracy: 0.9205\nEpoch 23/30\n210/210 - 1s - loss: 0.3185 - accuracy: 0.9186\nEpoch 24/30\n210/210 - 1s - loss: 0.3118 - accuracy: 0.9219\nEpoch 25/30\n210/210 - 1s - loss: 0.3057 - accuracy: 0.9248\nEpoch 26/30\n210/210 - 1s - loss: 0.3004 - accuracy: 0.9248\nEpoch 27/30\n210/210 - 1s - loss: 0.2957 - accuracy: 0.9281\nEpoch 28/30\n210/210 - 1s - loss: 0.2916 - accuracy: 0.9281\nEpoch 29/30\n210/210 - 1s - loss: 0.2879 - accuracy: 0.9286\nEpoch 30/30\n210/210 - 1s - loss: 0.2843 - accuracy: 0.9314\n"
    }
   ],
   "source": [
    "model = train_model(model, x_train=scaled_train_samples, y_train=train_labels)"
   ]
  },
  {
   "cell_type": "code",
   "execution_count": 41,
   "metadata": {},
   "outputs": [],
   "source": [
    "scaled_train_samples, train_labels, scaled_valid_samples, valid_labels = train_valid_split(x=train_samples, y=train_labels, per=0.1)"
   ]
  },
  {
   "cell_type": "code",
   "execution_count": 42,
   "metadata": {},
   "outputs": [
    {
     "output_type": "execute_result",
     "data": {
      "text/plain": "((1890, 1), (210, 1))"
     },
     "metadata": {},
     "execution_count": 42
    }
   ],
   "source": [
    "scaled_train_samples.shape, scaled_valid_samples.shape"
   ]
  },
  {
   "cell_type": "code",
   "execution_count": 46,
   "metadata": {
    "tags": []
   },
   "outputs": [
    {
     "output_type": "stream",
     "name": "stdout",
     "text": "Epoch 1/30\n189/189 - 1s - loss: 0.6686 - accuracy: 0.5265 - val_loss: 0.6638 - val_accuracy: 0.5095\nEpoch 2/30\n189/189 - 0s - loss: 0.6505 - accuracy: 0.5804 - val_loss: 0.6464 - val_accuracy: 0.5905\nEpoch 3/30\n189/189 - 0s - loss: 0.6303 - accuracy: 0.6339 - val_loss: 0.6259 - val_accuracy: 0.6524\nEpoch 4/30\n189/189 - 0s - loss: 0.6075 - accuracy: 0.6810 - val_loss: 0.5996 - val_accuracy: 0.6952\nEpoch 5/30\n189/189 - 0s - loss: 0.5778 - accuracy: 0.7392 - val_loss: 0.5654 - val_accuracy: 0.7667\nEpoch 6/30\n189/189 - 0s - loss: 0.5491 - accuracy: 0.7831 - val_loss: 0.5391 - val_accuracy: 0.7810\nEpoch 7/30\n189/189 - 0s - loss: 0.5242 - accuracy: 0.7984 - val_loss: 0.5133 - val_accuracy: 0.8238\nEpoch 8/30\n189/189 - 0s - loss: 0.5002 - accuracy: 0.8206 - val_loss: 0.4881 - val_accuracy: 0.8333\nEpoch 9/30\n189/189 - 0s - loss: 0.4771 - accuracy: 0.8450 - val_loss: 0.4642 - val_accuracy: 0.8476\nEpoch 10/30\n189/189 - 0s - loss: 0.4552 - accuracy: 0.8545 - val_loss: 0.4411 - val_accuracy: 0.8667\nEpoch 11/30\n189/189 - 0s - loss: 0.4347 - accuracy: 0.8603 - val_loss: 0.4197 - val_accuracy: 0.8857\nEpoch 12/30\n189/189 - 0s - loss: 0.4157 - accuracy: 0.8735 - val_loss: 0.4001 - val_accuracy: 0.8857\nEpoch 13/30\n189/189 - 0s - loss: 0.3984 - accuracy: 0.8831 - val_loss: 0.3816 - val_accuracy: 0.8905\nEpoch 14/30\n189/189 - 0s - loss: 0.3823 - accuracy: 0.8910 - val_loss: 0.3650 - val_accuracy: 0.8952\nEpoch 15/30\n189/189 - 0s - loss: 0.3681 - accuracy: 0.8958 - val_loss: 0.3499 - val_accuracy: 0.8952\nEpoch 16/30\n189/189 - 0s - loss: 0.3556 - accuracy: 0.8995 - val_loss: 0.3367 - val_accuracy: 0.9095\nEpoch 17/30\n189/189 - 0s - loss: 0.3443 - accuracy: 0.9021 - val_loss: 0.3243 - val_accuracy: 0.9190\nEpoch 18/30\n189/189 - 0s - loss: 0.3343 - accuracy: 0.9106 - val_loss: 0.3139 - val_accuracy: 0.9190\nEpoch 19/30\n189/189 - 0s - loss: 0.3255 - accuracy: 0.9127 - val_loss: 0.3043 - val_accuracy: 0.9286\nEpoch 20/30\n189/189 - 0s - loss: 0.3180 - accuracy: 0.9143 - val_loss: 0.2962 - val_accuracy: 0.9286\nEpoch 21/30\n189/189 - 0s - loss: 0.3114 - accuracy: 0.9190 - val_loss: 0.2889 - val_accuracy: 0.9286\nEpoch 22/30\n189/189 - 0s - loss: 0.3055 - accuracy: 0.9190 - val_loss: 0.2824 - val_accuracy: 0.9286\nEpoch 23/30\n189/189 - 0s - loss: 0.3004 - accuracy: 0.9217 - val_loss: 0.2766 - val_accuracy: 0.9286\nEpoch 24/30\n189/189 - 0s - loss: 0.2960 - accuracy: 0.9233 - val_loss: 0.2715 - val_accuracy: 0.9524\nEpoch 25/30\n189/189 - 0s - loss: 0.2922 - accuracy: 0.9259 - val_loss: 0.2672 - val_accuracy: 0.9524\nEpoch 26/30\n189/189 - 0s - loss: 0.2888 - accuracy: 0.9275 - val_loss: 0.2632 - val_accuracy: 0.9524\nEpoch 27/30\n189/189 - 0s - loss: 0.2857 - accuracy: 0.9249 - val_loss: 0.2598 - val_accuracy: 0.9524\nEpoch 28/30\n189/189 - 0s - loss: 0.2830 - accuracy: 0.9275 - val_loss: 0.2567 - val_accuracy: 0.9524\nEpoch 29/30\n189/189 - 0s - loss: 0.2805 - accuracy: 0.9275 - val_loss: 0.2539 - val_accuracy: 0.9524\nEpoch 30/30\n189/189 - 0s - loss: 0.2784 - accuracy: 0.9291 - val_loss: 0.2514 - val_accuracy: 0.9524\n"
    }
   ],
   "source": [
    "model = create_model()\n",
    "model = train_valid_model(\n",
    "    model=model, \n",
    "    x_train=scaled_train_samples, \n",
    "    y_train=train_labels,\n",
    "    valid_set=(scaled_valid_samples, valid_labels))"
   ]
  },
  {
   "cell_type": "code",
   "execution_count": null,
   "metadata": {},
   "outputs": [],
   "source": []
  }
 ]
}