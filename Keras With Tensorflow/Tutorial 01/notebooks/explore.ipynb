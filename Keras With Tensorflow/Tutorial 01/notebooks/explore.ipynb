{
 "metadata": {
  "language_info": {
   "codemirror_mode": {
    "name": "ipython",
    "version": 3
   },
   "file_extension": ".py",
   "mimetype": "text/x-python",
   "name": "python",
   "nbconvert_exporter": "python",
   "pygments_lexer": "ipython3",
   "version": "3.7.6-final"
  },
  "orig_nbformat": 2,
  "kernelspec": {
   "name": "python3",
   "display_name": "Python 3"
  }
 },
 "nbformat": 4,
 "nbformat_minor": 2,
 "cells": [
  {
   "cell_type": "code",
   "execution_count": 1,
   "metadata": {},
   "outputs": [],
   "source": [
    "%run ../src/create_data.py"
   ]
  },
  {
   "cell_type": "code",
   "execution_count": 2,
   "metadata": {},
   "outputs": [],
   "source": [
    "train_samples, train_labels = data()"
   ]
  },
  {
   "cell_type": "code",
   "execution_count": 40,
   "metadata": {},
   "outputs": [
    {
     "output_type": "execute_result",
     "data": {
      "text/plain": "([63, 75, 59, 70, 64, 88, 63, 75, 24, 94], [1, 0, 1, 0, 1, 0, 1, 0, 1, 0])"
     },
     "metadata": {},
     "execution_count": 40
    }
   ],
   "source": [
    "## displaying only first 10 values from both the list\n",
    "train_samples[:10], train_labels[:10]"
   ]
  },
  {
   "cell_type": "code",
   "execution_count": 3,
   "metadata": {},
   "outputs": [],
   "source": [
    "%run ../src/processing.py"
   ]
  },
  {
   "cell_type": "code",
   "execution_count": 4,
   "metadata": {},
   "outputs": [],
   "source": [
    "scaled_train_samples, train_labels = process(train_samples, train_labels)"
   ]
  },
  {
   "cell_type": "code",
   "execution_count": 7,
   "metadata": {},
   "outputs": [
    {
     "output_type": "execute_result",
     "data": {
      "text/plain": "(numpy.ndarray, numpy.ndarray)"
     },
     "metadata": {},
     "execution_count": 7
    }
   ],
   "source": [
    "type(scaled_train_samples), type(train_labels)"
   ]
  },
  {
   "cell_type": "code",
   "execution_count": 8,
   "metadata": {},
   "outputs": [
    {
     "output_type": "execute_result",
     "data": {
      "text/plain": "array([[0.13793103],\n       [0.72413793],\n       [0.93103448],\n       ...,\n       [0.86206897],\n       [0.83908046],\n       [0.24137931]])"
     },
     "metadata": {},
     "execution_count": 8
    }
   ],
   "source": [
    "scaled_train_samples"
   ]
  },
  {
   "cell_type": "code",
   "execution_count": 9,
   "metadata": {},
   "outputs": [
    {
     "output_type": "execute_result",
     "data": {
      "text/plain": "array([0, 1, 1, ..., 1, 1, 0])"
     },
     "metadata": {},
     "execution_count": 9
    }
   ],
   "source": [
    "train_labels"
   ]
  },
  {
   "cell_type": "code",
   "execution_count": 5,
   "metadata": {},
   "outputs": [],
   "source": [
    "%run ../src/train.py"
   ]
  },
  {
   "cell_type": "code",
   "execution_count": 11,
   "metadata": {
    "tags": []
   },
   "outputs": [
    {
     "output_type": "stream",
     "name": "stdout",
     "text": "Number of GPU availabe: 1\n"
    }
   ],
   "source": [
    "test_gpu()"
   ]
  },
  {
   "cell_type": "code",
   "execution_count": 12,
   "metadata": {},
   "outputs": [],
   "source": [
    "model = create_model()"
   ]
  },
  {
   "cell_type": "code",
   "execution_count": 13,
   "metadata": {},
   "outputs": [
    {
     "output_type": "execute_result",
     "data": {
      "text/plain": "<tensorflow.python.keras.engine.sequential.Sequential at 0x7f5f52393a90>"
     },
     "metadata": {},
     "execution_count": 13
    }
   ],
   "source": [
    "model"
   ]
  },
  {
   "cell_type": "code",
   "execution_count": 14,
   "metadata": {
    "tags": []
   },
   "outputs": [
    {
     "output_type": "stream",
     "name": "stdout",
     "text": "Model: \"sequential\"\n_________________________________________________________________\nLayer (type)                 Output Shape              Param #   \n=================================================================\ndense (Dense)                (None, 16)                32        \n_________________________________________________________________\ndense_1 (Dense)              (None, 32)                544       \n_________________________________________________________________\ndense_2 (Dense)              (None, 1)                 33        \n=================================================================\nTotal params: 609\nTrainable params: 609\nNon-trainable params: 0\n_________________________________________________________________\n"
    }
   ],
   "source": [
    "model.summary()"
   ]
  },
  {
   "cell_type": "code",
   "execution_count": 15,
   "metadata": {
    "tags": []
   },
   "outputs": [
    {
     "output_type": "stream",
     "name": "stdout",
     "text": "Epoch 1/30\n210/210 - 1s - loss: 0.7017 - accuracy: 0.4305\nEpoch 2/30\n210/210 - 1s - loss: 0.6818 - accuracy: 0.6538\nEpoch 3/30\n210/210 - 1s - loss: 0.6654 - accuracy: 0.6962\nEpoch 4/30\n210/210 - 1s - loss: 0.6458 - accuracy: 0.7319\nEpoch 5/30\n210/210 - 1s - loss: 0.6265 - accuracy: 0.7529\nEpoch 6/30\n210/210 - 1s - loss: 0.6055 - accuracy: 0.7781\nEpoch 7/30\n210/210 - 1s - loss: 0.5853 - accuracy: 0.8029\nEpoch 8/30\n210/210 - 1s - loss: 0.5651 - accuracy: 0.8214\nEpoch 9/30\n210/210 - 1s - loss: 0.5431 - accuracy: 0.8310\nEpoch 10/30\n210/210 - 1s - loss: 0.5205 - accuracy: 0.8424\nEpoch 11/30\n210/210 - 1s - loss: 0.4980 - accuracy: 0.8576\nEpoch 12/30\n210/210 - 1s - loss: 0.4759 - accuracy: 0.8700\nEpoch 13/30\n210/210 - 1s - loss: 0.4546 - accuracy: 0.8819\nEpoch 14/30\n210/210 - 1s - loss: 0.4345 - accuracy: 0.8843\nEpoch 15/30\n210/210 - 1s - loss: 0.4158 - accuracy: 0.8962\nEpoch 16/30\n210/210 - 1s - loss: 0.3988 - accuracy: 0.8986\nEpoch 17/30\n210/210 - 1s - loss: 0.3831 - accuracy: 0.9000\nEpoch 18/30\n210/210 - 1s - loss: 0.3689 - accuracy: 0.9067\nEpoch 19/30\n210/210 - 1s - loss: 0.3561 - accuracy: 0.9095\nEpoch 20/30\n210/210 - 1s - loss: 0.3448 - accuracy: 0.9124\nEpoch 21/30\n210/210 - 1s - loss: 0.3350 - accuracy: 0.9205\nEpoch 22/30\n210/210 - 1s - loss: 0.3262 - accuracy: 0.9205\nEpoch 23/30\n210/210 - 1s - loss: 0.3185 - accuracy: 0.9186\nEpoch 24/30\n210/210 - 1s - loss: 0.3118 - accuracy: 0.9219\nEpoch 25/30\n210/210 - 1s - loss: 0.3057 - accuracy: 0.9248\nEpoch 26/30\n210/210 - 1s - loss: 0.3004 - accuracy: 0.9248\nEpoch 27/30\n210/210 - 1s - loss: 0.2957 - accuracy: 0.9281\nEpoch 28/30\n210/210 - 1s - loss: 0.2916 - accuracy: 0.9281\nEpoch 29/30\n210/210 - 1s - loss: 0.2879 - accuracy: 0.9286\nEpoch 30/30\n210/210 - 1s - loss: 0.2843 - accuracy: 0.9314\n"
    }
   ],
   "source": [
    "model = train_model(model, x_train=scaled_train_samples, y_train=train_labels)"
   ]
  },
  {
   "cell_type": "code",
   "execution_count": 41,
   "metadata": {},
   "outputs": [],
   "source": [
    "scaled_train_samples, train_labels, scaled_valid_samples, valid_labels = train_valid_split(x=train_samples, y=train_labels, per=0.1)"
   ]
  },
  {
   "cell_type": "code",
   "execution_count": 42,
   "metadata": {},
   "outputs": [
    {
     "output_type": "execute_result",
     "data": {
      "text/plain": "((1890, 1), (210, 1))"
     },
     "metadata": {},
     "execution_count": 42
    }
   ],
   "source": [
    "scaled_train_samples.shape, scaled_valid_samples.shape"
   ]
  },
  {
   "cell_type": "code",
   "execution_count": 46,
   "metadata": {
    "tags": []
   },
   "outputs": [
    {
     "output_type": "stream",
     "name": "stdout",
     "text": "Epoch 1/30\n189/189 - 1s - loss: 0.6686 - accuracy: 0.5265 - val_loss: 0.6638 - val_accuracy: 0.5095\nEpoch 2/30\n189/189 - 0s - loss: 0.6505 - accuracy: 0.5804 - val_loss: 0.6464 - val_accuracy: 0.5905\nEpoch 3/30\n189/189 - 0s - loss: 0.6303 - accuracy: 0.6339 - val_loss: 0.6259 - val_accuracy: 0.6524\nEpoch 4/30\n189/189 - 0s - loss: 0.6075 - accuracy: 0.6810 - val_loss: 0.5996 - val_accuracy: 0.6952\nEpoch 5/30\n189/189 - 0s - loss: 0.5778 - accuracy: 0.7392 - val_loss: 0.5654 - val_accuracy: 0.7667\nEpoch 6/30\n189/189 - 0s - loss: 0.5491 - accuracy: 0.7831 - val_loss: 0.5391 - val_accuracy: 0.7810\nEpoch 7/30\n189/189 - 0s - loss: 0.5242 - accuracy: 0.7984 - val_loss: 0.5133 - val_accuracy: 0.8238\nEpoch 8/30\n189/189 - 0s - loss: 0.5002 - accuracy: 0.8206 - val_loss: 0.4881 - val_accuracy: 0.8333\nEpoch 9/30\n189/189 - 0s - loss: 0.4771 - accuracy: 0.8450 - val_loss: 0.4642 - val_accuracy: 0.8476\nEpoch 10/30\n189/189 - 0s - loss: 0.4552 - accuracy: 0.8545 - val_loss: 0.4411 - val_accuracy: 0.8667\nEpoch 11/30\n189/189 - 0s - loss: 0.4347 - accuracy: 0.8603 - val_loss: 0.4197 - val_accuracy: 0.8857\nEpoch 12/30\n189/189 - 0s - loss: 0.4157 - accuracy: 0.8735 - val_loss: 0.4001 - val_accuracy: 0.8857\nEpoch 13/30\n189/189 - 0s - loss: 0.3984 - accuracy: 0.8831 - val_loss: 0.3816 - val_accuracy: 0.8905\nEpoch 14/30\n189/189 - 0s - loss: 0.3823 - accuracy: 0.8910 - val_loss: 0.3650 - val_accuracy: 0.8952\nEpoch 15/30\n189/189 - 0s - loss: 0.3681 - accuracy: 0.8958 - val_loss: 0.3499 - val_accuracy: 0.8952\nEpoch 16/30\n189/189 - 0s - loss: 0.3556 - accuracy: 0.8995 - val_loss: 0.3367 - val_accuracy: 0.9095\nEpoch 17/30\n189/189 - 0s - loss: 0.3443 - accuracy: 0.9021 - val_loss: 0.3243 - val_accuracy: 0.9190\nEpoch 18/30\n189/189 - 0s - loss: 0.3343 - accuracy: 0.9106 - val_loss: 0.3139 - val_accuracy: 0.9190\nEpoch 19/30\n189/189 - 0s - loss: 0.3255 - accuracy: 0.9127 - val_loss: 0.3043 - val_accuracy: 0.9286\nEpoch 20/30\n189/189 - 0s - loss: 0.3180 - accuracy: 0.9143 - val_loss: 0.2962 - val_accuracy: 0.9286\nEpoch 21/30\n189/189 - 0s - loss: 0.3114 - accuracy: 0.9190 - val_loss: 0.2889 - val_accuracy: 0.9286\nEpoch 22/30\n189/189 - 0s - loss: 0.3055 - accuracy: 0.9190 - val_loss: 0.2824 - val_accuracy: 0.9286\nEpoch 23/30\n189/189 - 0s - loss: 0.3004 - accuracy: 0.9217 - val_loss: 0.2766 - val_accuracy: 0.9286\nEpoch 24/30\n189/189 - 0s - loss: 0.2960 - accuracy: 0.9233 - val_loss: 0.2715 - val_accuracy: 0.9524\nEpoch 25/30\n189/189 - 0s - loss: 0.2922 - accuracy: 0.9259 - val_loss: 0.2672 - val_accuracy: 0.9524\nEpoch 26/30\n189/189 - 0s - loss: 0.2888 - accuracy: 0.9275 - val_loss: 0.2632 - val_accuracy: 0.9524\nEpoch 27/30\n189/189 - 0s - loss: 0.2857 - accuracy: 0.9249 - val_loss: 0.2598 - val_accuracy: 0.9524\nEpoch 28/30\n189/189 - 0s - loss: 0.2830 - accuracy: 0.9275 - val_loss: 0.2567 - val_accuracy: 0.9524\nEpoch 29/30\n189/189 - 0s - loss: 0.2805 - accuracy: 0.9275 - val_loss: 0.2539 - val_accuracy: 0.9524\nEpoch 30/30\n189/189 - 0s - loss: 0.2784 - accuracy: 0.9291 - val_loss: 0.2514 - val_accuracy: 0.9524\n"
    }
   ],
   "source": [
    "model = create_model()\n",
    "model = train_valid_model(\n",
    "    model=model, \n",
    "    x_train=scaled_train_samples, \n",
    "    y_train=train_labels,\n",
    "    valid_set=(scaled_valid_samples, valid_labels))"
   ]
  },
  {
   "cell_type": "code",
   "execution_count": 24,
   "metadata": {},
   "outputs": [],
   "source": [
    "%run ../src/test.py"
   ]
  },
  {
   "cell_type": "code",
   "execution_count": 7,
   "metadata": {
    "tags": []
   },
   "outputs": [
    {
     "output_type": "stream",
     "name": "stdout",
     "text": "Epoch 1/30\n210/210 - 0s - loss: 0.7273 - accuracy: 0.4990\nEpoch 2/30\n210/210 - 0s - loss: 0.7040 - accuracy: 0.5000\nEpoch 3/30\n210/210 - 0s - loss: 0.6804 - accuracy: 0.7081\nEpoch 4/30\n210/210 - 0s - loss: 0.6572 - accuracy: 0.8862\nEpoch 5/30\n210/210 - 0s - loss: 0.6367 - accuracy: 0.8619\nEpoch 6/30\n210/210 - 0s - loss: 0.6163 - accuracy: 0.8462\nEpoch 7/30\n210/210 - 0s - loss: 0.5952 - accuracy: 0.8648\nEpoch 8/30\n210/210 - 0s - loss: 0.5747 - accuracy: 0.8610\nEpoch 9/30\n210/210 - 0s - loss: 0.5535 - accuracy: 0.8681\nEpoch 10/30\n210/210 - 0s - loss: 0.5320 - accuracy: 0.8733\nEpoch 11/30\n210/210 - 0s - loss: 0.5106 - accuracy: 0.8752\nEpoch 12/30\n210/210 - 0s - loss: 0.4894 - accuracy: 0.8843\nEpoch 13/30\n210/210 - 0s - loss: 0.4691 - accuracy: 0.8857\nEpoch 14/30\n210/210 - 0s - loss: 0.4494 - accuracy: 0.8895\nEpoch 15/30\n210/210 - 0s - loss: 0.4307 - accuracy: 0.8967\nEpoch 16/30\n210/210 - 0s - loss: 0.4135 - accuracy: 0.8971\nEpoch 17/30\n210/210 - 0s - loss: 0.3976 - accuracy: 0.9024\nEpoch 18/30\n210/210 - 0s - loss: 0.3829 - accuracy: 0.9000\nEpoch 19/30\n210/210 - 0s - loss: 0.3694 - accuracy: 0.9062\nEpoch 20/30\n210/210 - 0s - loss: 0.3572 - accuracy: 0.9110\nEpoch 21/30\n210/210 - 0s - loss: 0.3461 - accuracy: 0.9138\nEpoch 22/30\n210/210 - 0s - loss: 0.3359 - accuracy: 0.9143\nEpoch 23/30\n210/210 - 0s - loss: 0.3268 - accuracy: 0.9138\nEpoch 24/30\n210/210 - 0s - loss: 0.3186 - accuracy: 0.9152\nEpoch 25/30\n210/210 - 0s - loss: 0.3114 - accuracy: 0.9143\nEpoch 26/30\n210/210 - 0s - loss: 0.3050 - accuracy: 0.9205\nEpoch 27/30\n210/210 - 0s - loss: 0.2993 - accuracy: 0.9224\nEpoch 28/30\n210/210 - 0s - loss: 0.2943 - accuracy: 0.9229\nEpoch 29/30\n210/210 - 0s - loss: 0.2898 - accuracy: 0.9224\nEpoch 30/30\n210/210 - 0s - loss: 0.2856 - accuracy: 0.9224\n"
    }
   ],
   "source": [
    "scaled_train_samples, train_labels = process(train_samples, train_labels)            \n",
    "\n",
    "## test-data\n",
    "test_samples, test_labels = test_data()\n",
    "scaled_test_samples, test_labels = process(test_samples, test_labels)\n",
    "\n",
    "model = create_model()\n",
    "model = train_model(model, x_train=scaled_train_samples, y_train=train_labels)\n",
    "\n",
    "predictions = predict(model, scaled_test_samples, test_labels)"
   ]
  },
  {
   "cell_type": "code",
   "execution_count": 8,
   "metadata": {},
   "outputs": [
    {
     "output_type": "execute_result",
     "data": {
      "text/plain": "(420, 1)"
     },
     "metadata": {},
     "execution_count": 8
    }
   ],
   "source": [
    "predictions.shape"
   ]
  },
  {
   "cell_type": "code",
   "execution_count": 9,
   "metadata": {},
   "outputs": [
    {
     "output_type": "execute_result",
     "data": {
      "text/plain": "array([[0.9441394 ],\n       [0.06245574],\n       [0.43226835],\n       [0.06090756],\n       [0.06378814]], dtype=float32)"
     },
     "metadata": {},
     "execution_count": 9
    }
   ],
   "source": [
    "predictions[:5]"
   ]
  },
  {
   "cell_type": "code",
   "execution_count": 20,
   "metadata": {},
   "outputs": [],
   "source": [
    "predictions[predictions >= 0.5] = 1\n",
    "predictions[predictions < 0.5] = 0"
   ]
  },
  {
   "cell_type": "code",
   "execution_count": 30,
   "metadata": {},
   "outputs": [
    {
     "output_type": "execute_result",
     "data": {
      "text/plain": "array([1., 0., 0., 0., 0.], dtype=float32)"
     },
     "metadata": {},
     "execution_count": 30
    }
   ],
   "source": [
    "predictions[:5]"
   ]
  },
  {
   "cell_type": "code",
   "execution_count": 38,
   "metadata": {
    "tags": []
   },
   "outputs": [
    {
     "output_type": "stream",
     "name": "stdout",
     "text": "Acuuracy Score: 0.9238095238095239\n"
    }
   ],
   "source": [
    "classes = ['no-side-effects', 'had-side-effects']\n",
    "plot_confusion_matrix(classes, test_labels, predictions, acc=True, savefig='confusion_matrix')"
   ]
  },
  {
   "cell_type": "code",
   "execution_count": 39,
   "metadata": {
    "tags": []
   },
   "outputs": [
    {
     "output_type": "stream",
     "name": "stdout",
     "text": "Acuuracy Score: 0.9238095238095239\n"
    },
    {
     "output_type": "display_data",
     "data": {
      "text/plain": "<Figure size 432x288 with 2 Axes>",
      "image/svg+xml": "<?xml version=\"1.0\" encoding=\"utf-8\" standalone=\"no\"?>\n<!DOCTYPE svg PUBLIC \"-//W3C//DTD SVG 1.1//EN\"\n  \"http://www.w3.org/Graphics/SVG/1.1/DTD/svg11.dtd\">\n<!-- Created with matplotlib (https://matplotlib.org/) -->\n<svg height=\"293.099066pt\" version=\"1.1\" viewBox=\"0 0 348.40438 293.099066\" width=\"348.40438pt\" xmlns=\"http://www.w3.org/2000/svg\" xmlns:xlink=\"http://www.w3.org/1999/xlink\">\n <defs>\n  <style type=\"text/css\">\n*{stroke-linecap:butt;stroke-linejoin:round;}\n  </style>\n </defs>\n <g id=\"figure_1\">\n  <g id=\"patch_1\">\n   <path d=\"M 0 293.099066 \nL 348.40438 293.099066 \nL 348.40438 0 \nL 0 0 \nz\n\" style=\"fill:none;\"/>\n  </g>\n  <g id=\"axes_1\">\n   <g id=\"patch_2\">\n    <path d=\"M 108.371875 201.459796 \nL 287.513546 201.459796 \nL 287.513546 22.318125 \nL 108.371875 22.318125 \nz\n\" style=\"fill:#ffffff;\"/>\n   </g>\n   <g clip-path=\"url(#p9f425057bf)\">\n    <image height=\"180\" id=\"image09ca5b1d1c\" transform=\"scale(1 -1)translate(0 -180)\" width=\"180\" x=\"108.371875\" xlink:href=\"data:image/png;base64,\niVBORw0KGgoAAAANSUhEUgAAALQAAAC0CAYAAAA9zQYyAAAABHNCSVQICAgIfAhkiAAAAhpJREFUeJzt1EENwlAABUFKaqBikIAbZPSOJ6TUBAcOxQTkJ/tnFLzD5i3vz3le+Lvt9hg9YQrX0QPglwRNiqBJETQpgiZF0KQImhRBkyJoUgRNiqBJETQpgiZF0KQImhRBkyJoUgRNiqBJETQpgiZF0KQImhRBkyJoUgRNiqBJETQpgiZF0KQImhRBkyJoUgRNiqBJETQpgiZF0KQImhRBkyJoUgRNiqBJETQpgiZF0KQImhRBkyJoUgRNiqBJETQpgiZF0KQImhRBkyJoUgRNiqBJETQpgiZF0KQImhRBkyJoUgRNiqBJETQpgiZF0KQImhRBkyJoUgRNiqBJETQpgiZF0KQImhRBkyJoUgRNiqBJETQpgiZF0KQImhRBkyJoUtbtvo/eMIXj9Rw9YQoemhRBkyJoUgRNiqBJETQpgiZF0KQImhRBkyJoUgRNiqBJETQpgiZF0KQImhRBkyJoUgRNiqBJETQpgiZF0KQImhRBkyJoUgRNiqBJETQpgiZF0KQImhRBkyJoUgRNiqBJETQpgiZF0KQImhRBkyJoUgRNiqBJETQpgiZF0KQImhRBkyJoUgRNiqBJETQpgiZF0KQImhRBkyJoUgRNiqBJETQpgiZF0KQImhRBkyJoUgRNiqBJETQpgiZF0KQImhRBkyJoUgRNiqBJETQpgiZF0KQImhRBkyJoUgRNiqBJETQpgiZF0KQImpQv/PUJGZNx4gEAAAAASUVORK5CYII=\" y=\"-21.459796\"/>\n   </g>\n   <g id=\"matplotlib.axis_1\">\n    <g id=\"xtick_1\">\n     <g id=\"line2d_1\">\n      <defs>\n       <path d=\"M 0 0 \nL 0 3.5 \n\" id=\"m2cbba72549\" style=\"stroke:#000000;stroke-width:0.8;\"/>\n      </defs>\n      <g>\n       <use style=\"stroke:#000000;stroke-width:0.8;\" x=\"153.157293\" xlink:href=\"#m2cbba72549\" y=\"201.459796\"/>\n      </g>\n     </g>\n     <g id=\"text_1\">\n      <!-- no-side-effects -->\n      <defs>\n       <path d=\"M 54.890625 33.015625 \nL 54.890625 0 \nL 45.90625 0 \nL 45.90625 32.71875 \nQ 45.90625 40.484375 42.875 44.328125 \nQ 39.84375 48.1875 33.796875 48.1875 \nQ 26.515625 48.1875 22.3125 43.546875 \nQ 18.109375 38.921875 18.109375 30.90625 \nL 18.109375 0 \nL 9.078125 0 \nL 9.078125 54.6875 \nL 18.109375 54.6875 \nL 18.109375 46.1875 \nQ 21.34375 51.125 25.703125 53.5625 \nQ 30.078125 56 35.796875 56 \nQ 45.21875 56 50.046875 50.171875 \nQ 54.890625 44.34375 54.890625 33.015625 \nz\n\" id=\"DejaVuSans-110\"/>\n       <path d=\"M 30.609375 48.390625 \nQ 23.390625 48.390625 19.1875 42.75 \nQ 14.984375 37.109375 14.984375 27.296875 \nQ 14.984375 17.484375 19.15625 11.84375 \nQ 23.34375 6.203125 30.609375 6.203125 \nQ 37.796875 6.203125 41.984375 11.859375 \nQ 46.1875 17.53125 46.1875 27.296875 \nQ 46.1875 37.015625 41.984375 42.703125 \nQ 37.796875 48.390625 30.609375 48.390625 \nz\nM 30.609375 56 \nQ 42.328125 56 49.015625 48.375 \nQ 55.71875 40.765625 55.71875 27.296875 \nQ 55.71875 13.875 49.015625 6.21875 \nQ 42.328125 -1.421875 30.609375 -1.421875 \nQ 18.84375 -1.421875 12.171875 6.21875 \nQ 5.515625 13.875 5.515625 27.296875 \nQ 5.515625 40.765625 12.171875 48.375 \nQ 18.84375 56 30.609375 56 \nz\n\" id=\"DejaVuSans-111\"/>\n       <path d=\"M 4.890625 31.390625 \nL 31.203125 31.390625 \nL 31.203125 23.390625 \nL 4.890625 23.390625 \nz\n\" id=\"DejaVuSans-45\"/>\n       <path d=\"M 44.28125 53.078125 \nL 44.28125 44.578125 \nQ 40.484375 46.53125 36.375 47.5 \nQ 32.28125 48.484375 27.875 48.484375 \nQ 21.1875 48.484375 17.84375 46.4375 \nQ 14.5 44.390625 14.5 40.28125 \nQ 14.5 37.15625 16.890625 35.375 \nQ 19.28125 33.59375 26.515625 31.984375 \nL 29.59375 31.296875 \nQ 39.15625 29.25 43.1875 25.515625 \nQ 47.21875 21.78125 47.21875 15.09375 \nQ 47.21875 7.46875 41.1875 3.015625 \nQ 35.15625 -1.421875 24.609375 -1.421875 \nQ 20.21875 -1.421875 15.453125 -0.5625 \nQ 10.6875 0.296875 5.421875 2 \nL 5.421875 11.28125 \nQ 10.40625 8.6875 15.234375 7.390625 \nQ 20.0625 6.109375 24.8125 6.109375 \nQ 31.15625 6.109375 34.5625 8.28125 \nQ 37.984375 10.453125 37.984375 14.40625 \nQ 37.984375 18.0625 35.515625 20.015625 \nQ 33.0625 21.96875 24.703125 23.78125 \nL 21.578125 24.515625 \nQ 13.234375 26.265625 9.515625 29.90625 \nQ 5.8125 33.546875 5.8125 39.890625 \nQ 5.8125 47.609375 11.28125 51.796875 \nQ 16.75 56 26.8125 56 \nQ 31.78125 56 36.171875 55.265625 \nQ 40.578125 54.546875 44.28125 53.078125 \nz\n\" id=\"DejaVuSans-115\"/>\n       <path d=\"M 9.421875 54.6875 \nL 18.40625 54.6875 \nL 18.40625 0 \nL 9.421875 0 \nz\nM 9.421875 75.984375 \nL 18.40625 75.984375 \nL 18.40625 64.59375 \nL 9.421875 64.59375 \nz\n\" id=\"DejaVuSans-105\"/>\n       <path d=\"M 45.40625 46.390625 \nL 45.40625 75.984375 \nL 54.390625 75.984375 \nL 54.390625 0 \nL 45.40625 0 \nL 45.40625 8.203125 \nQ 42.578125 3.328125 38.25 0.953125 \nQ 33.9375 -1.421875 27.875 -1.421875 \nQ 17.96875 -1.421875 11.734375 6.484375 \nQ 5.515625 14.40625 5.515625 27.296875 \nQ 5.515625 40.1875 11.734375 48.09375 \nQ 17.96875 56 27.875 56 \nQ 33.9375 56 38.25 53.625 \nQ 42.578125 51.265625 45.40625 46.390625 \nz\nM 14.796875 27.296875 \nQ 14.796875 17.390625 18.875 11.75 \nQ 22.953125 6.109375 30.078125 6.109375 \nQ 37.203125 6.109375 41.296875 11.75 \nQ 45.40625 17.390625 45.40625 27.296875 \nQ 45.40625 37.203125 41.296875 42.84375 \nQ 37.203125 48.484375 30.078125 48.484375 \nQ 22.953125 48.484375 18.875 42.84375 \nQ 14.796875 37.203125 14.796875 27.296875 \nz\n\" id=\"DejaVuSans-100\"/>\n       <path d=\"M 56.203125 29.59375 \nL 56.203125 25.203125 \nL 14.890625 25.203125 \nQ 15.484375 15.921875 20.484375 11.0625 \nQ 25.484375 6.203125 34.421875 6.203125 \nQ 39.59375 6.203125 44.453125 7.46875 \nQ 49.3125 8.734375 54.109375 11.28125 \nL 54.109375 2.78125 \nQ 49.265625 0.734375 44.1875 -0.34375 \nQ 39.109375 -1.421875 33.890625 -1.421875 \nQ 20.796875 -1.421875 13.15625 6.1875 \nQ 5.515625 13.8125 5.515625 26.8125 \nQ 5.515625 40.234375 12.765625 48.109375 \nQ 20.015625 56 32.328125 56 \nQ 43.359375 56 49.78125 48.890625 \nQ 56.203125 41.796875 56.203125 29.59375 \nz\nM 47.21875 32.234375 \nQ 47.125 39.59375 43.09375 43.984375 \nQ 39.0625 48.390625 32.421875 48.390625 \nQ 24.90625 48.390625 20.390625 44.140625 \nQ 15.875 39.890625 15.1875 32.171875 \nz\n\" id=\"DejaVuSans-101\"/>\n       <path d=\"M 37.109375 75.984375 \nL 37.109375 68.5 \nL 28.515625 68.5 \nQ 23.6875 68.5 21.796875 66.546875 \nQ 19.921875 64.59375 19.921875 59.515625 \nL 19.921875 54.6875 \nL 34.71875 54.6875 \nL 34.71875 47.703125 \nL 19.921875 47.703125 \nL 19.921875 0 \nL 10.890625 0 \nL 10.890625 47.703125 \nL 2.296875 47.703125 \nL 2.296875 54.6875 \nL 10.890625 54.6875 \nL 10.890625 58.5 \nQ 10.890625 67.625 15.140625 71.796875 \nQ 19.390625 75.984375 28.609375 75.984375 \nz\n\" id=\"DejaVuSans-102\"/>\n       <path d=\"M 48.78125 52.59375 \nL 48.78125 44.1875 \nQ 44.96875 46.296875 41.140625 47.34375 \nQ 37.3125 48.390625 33.40625 48.390625 \nQ 24.65625 48.390625 19.8125 42.84375 \nQ 14.984375 37.3125 14.984375 27.296875 \nQ 14.984375 17.28125 19.8125 11.734375 \nQ 24.65625 6.203125 33.40625 6.203125 \nQ 37.3125 6.203125 41.140625 7.25 \nQ 44.96875 8.296875 48.78125 10.40625 \nL 48.78125 2.09375 \nQ 45.015625 0.34375 40.984375 -0.53125 \nQ 36.96875 -1.421875 32.421875 -1.421875 \nQ 20.0625 -1.421875 12.78125 6.34375 \nQ 5.515625 14.109375 5.515625 27.296875 \nQ 5.515625 40.671875 12.859375 48.328125 \nQ 20.21875 56 33.015625 56 \nQ 37.15625 56 41.109375 55.140625 \nQ 45.0625 54.296875 48.78125 52.59375 \nz\n\" id=\"DejaVuSans-99\"/>\n       <path d=\"M 18.3125 70.21875 \nL 18.3125 54.6875 \nL 36.8125 54.6875 \nL 36.8125 47.703125 \nL 18.3125 47.703125 \nL 18.3125 18.015625 \nQ 18.3125 11.328125 20.140625 9.421875 \nQ 21.96875 7.515625 27.59375 7.515625 \nL 36.8125 7.515625 \nL 36.8125 0 \nL 27.59375 0 \nQ 17.1875 0 13.234375 3.875 \nQ 9.28125 7.765625 9.28125 18.015625 \nL 9.28125 47.703125 \nL 2.6875 47.703125 \nL 2.6875 54.6875 \nL 9.28125 54.6875 \nL 9.28125 70.21875 \nz\n\" id=\"DejaVuSans-116\"/>\n      </defs>\n      <g transform=\"translate(128.896901 266.255832)rotate(-45)scale(0.1 -0.1)\">\n       <use xlink:href=\"#DejaVuSans-110\"/>\n       <use x=\"63.378906\" xlink:href=\"#DejaVuSans-111\"/>\n       <use x=\"124.576172\" xlink:href=\"#DejaVuSans-45\"/>\n       <use x=\"160.660156\" xlink:href=\"#DejaVuSans-115\"/>\n       <use x=\"212.759766\" xlink:href=\"#DejaVuSans-105\"/>\n       <use x=\"240.542969\" xlink:href=\"#DejaVuSans-100\"/>\n       <use x=\"304.019531\" xlink:href=\"#DejaVuSans-101\"/>\n       <use x=\"365.542969\" xlink:href=\"#DejaVuSans-45\"/>\n       <use x=\"401.626953\" xlink:href=\"#DejaVuSans-101\"/>\n       <use x=\"463.150391\" xlink:href=\"#DejaVuSans-102\"/>\n       <use x=\"498.355469\" xlink:href=\"#DejaVuSans-102\"/>\n       <use x=\"533.560547\" xlink:href=\"#DejaVuSans-101\"/>\n       <use x=\"595.083984\" xlink:href=\"#DejaVuSans-99\"/>\n       <use x=\"650.064453\" xlink:href=\"#DejaVuSans-116\"/>\n       <use x=\"689.273438\" xlink:href=\"#DejaVuSans-115\"/>\n      </g>\n     </g>\n    </g>\n    <g id=\"xtick_2\">\n     <g id=\"line2d_2\">\n      <g>\n       <use style=\"stroke:#000000;stroke-width:0.8;\" x=\"242.728128\" xlink:href=\"#m2cbba72549\" y=\"201.459796\"/>\n      </g>\n     </g>\n     <g id=\"text_2\">\n      <!-- had-side-effects -->\n      <defs>\n       <path d=\"M 54.890625 33.015625 \nL 54.890625 0 \nL 45.90625 0 \nL 45.90625 32.71875 \nQ 45.90625 40.484375 42.875 44.328125 \nQ 39.84375 48.1875 33.796875 48.1875 \nQ 26.515625 48.1875 22.3125 43.546875 \nQ 18.109375 38.921875 18.109375 30.90625 \nL 18.109375 0 \nL 9.078125 0 \nL 9.078125 75.984375 \nL 18.109375 75.984375 \nL 18.109375 46.1875 \nQ 21.34375 51.125 25.703125 53.5625 \nQ 30.078125 56 35.796875 56 \nQ 45.21875 56 50.046875 50.171875 \nQ 54.890625 44.34375 54.890625 33.015625 \nz\n\" id=\"DejaVuSans-104\"/>\n       <path d=\"M 34.28125 27.484375 \nQ 23.390625 27.484375 19.1875 25 \nQ 14.984375 22.515625 14.984375 16.5 \nQ 14.984375 11.71875 18.140625 8.90625 \nQ 21.296875 6.109375 26.703125 6.109375 \nQ 34.1875 6.109375 38.703125 11.40625 \nQ 43.21875 16.703125 43.21875 25.484375 \nL 43.21875 27.484375 \nz\nM 52.203125 31.203125 \nL 52.203125 0 \nL 43.21875 0 \nL 43.21875 8.296875 \nQ 40.140625 3.328125 35.546875 0.953125 \nQ 30.953125 -1.421875 24.3125 -1.421875 \nQ 15.921875 -1.421875 10.953125 3.296875 \nQ 6 8.015625 6 15.921875 \nQ 6 25.140625 12.171875 29.828125 \nQ 18.359375 34.515625 30.609375 34.515625 \nL 43.21875 34.515625 \nL 43.21875 35.40625 \nQ 43.21875 41.609375 39.140625 45 \nQ 35.0625 48.390625 27.6875 48.390625 \nQ 23 48.390625 18.546875 47.265625 \nQ 14.109375 46.140625 10.015625 43.890625 \nL 10.015625 52.203125 \nQ 14.9375 54.109375 19.578125 55.046875 \nQ 24.21875 56 28.609375 56 \nQ 40.484375 56 46.34375 49.84375 \nQ 52.203125 43.703125 52.203125 31.203125 \nz\n\" id=\"DejaVuSans-97\"/>\n      </defs>\n      <g transform=\"translate(216.220463 270.750379)rotate(-45)scale(0.1 -0.1)\">\n       <use xlink:href=\"#DejaVuSans-104\"/>\n       <use x=\"63.378906\" xlink:href=\"#DejaVuSans-97\"/>\n       <use x=\"124.658203\" xlink:href=\"#DejaVuSans-100\"/>\n       <use x=\"188.134766\" xlink:href=\"#DejaVuSans-45\"/>\n       <use x=\"224.21875\" xlink:href=\"#DejaVuSans-115\"/>\n       <use x=\"276.318359\" xlink:href=\"#DejaVuSans-105\"/>\n       <use x=\"304.101562\" xlink:href=\"#DejaVuSans-100\"/>\n       <use x=\"367.578125\" xlink:href=\"#DejaVuSans-101\"/>\n       <use x=\"429.101562\" xlink:href=\"#DejaVuSans-45\"/>\n       <use x=\"465.185547\" xlink:href=\"#DejaVuSans-101\"/>\n       <use x=\"526.708984\" xlink:href=\"#DejaVuSans-102\"/>\n       <use x=\"561.914062\" xlink:href=\"#DejaVuSans-102\"/>\n       <use x=\"597.119141\" xlink:href=\"#DejaVuSans-101\"/>\n       <use x=\"658.642578\" xlink:href=\"#DejaVuSans-99\"/>\n       <use x=\"713.623047\" xlink:href=\"#DejaVuSans-116\"/>\n       <use x=\"752.832031\" xlink:href=\"#DejaVuSans-115\"/>\n      </g>\n     </g>\n    </g>\n    <g id=\"text_3\">\n     <!-- Predicted Label -->\n     <defs>\n      <path d=\"M 19.671875 64.796875 \nL 19.671875 37.40625 \nL 32.078125 37.40625 \nQ 38.96875 37.40625 42.71875 40.96875 \nQ 46.484375 44.53125 46.484375 51.125 \nQ 46.484375 57.671875 42.71875 61.234375 \nQ 38.96875 64.796875 32.078125 64.796875 \nz\nM 9.8125 72.90625 \nL 32.078125 72.90625 \nQ 44.34375 72.90625 50.609375 67.359375 \nQ 56.890625 61.8125 56.890625 51.125 \nQ 56.890625 40.328125 50.609375 34.8125 \nQ 44.34375 29.296875 32.078125 29.296875 \nL 19.671875 29.296875 \nL 19.671875 0 \nL 9.8125 0 \nz\n\" id=\"DejaVuSans-80\"/>\n      <path d=\"M 41.109375 46.296875 \nQ 39.59375 47.171875 37.8125 47.578125 \nQ 36.03125 48 33.890625 48 \nQ 26.265625 48 22.1875 43.046875 \nQ 18.109375 38.09375 18.109375 28.8125 \nL 18.109375 0 \nL 9.078125 0 \nL 9.078125 54.6875 \nL 18.109375 54.6875 \nL 18.109375 46.1875 \nQ 20.953125 51.171875 25.484375 53.578125 \nQ 30.03125 56 36.53125 56 \nQ 37.453125 56 38.578125 55.875 \nQ 39.703125 55.765625 41.0625 55.515625 \nz\n\" id=\"DejaVuSans-114\"/>\n      <path id=\"DejaVuSans-32\"/>\n      <path d=\"M 9.8125 72.90625 \nL 19.671875 72.90625 \nL 19.671875 8.296875 \nL 55.171875 8.296875 \nL 55.171875 0 \nL 9.8125 0 \nz\n\" id=\"DejaVuSans-76\"/>\n      <path d=\"M 48.6875 27.296875 \nQ 48.6875 37.203125 44.609375 42.84375 \nQ 40.53125 48.484375 33.40625 48.484375 \nQ 26.265625 48.484375 22.1875 42.84375 \nQ 18.109375 37.203125 18.109375 27.296875 \nQ 18.109375 17.390625 22.1875 11.75 \nQ 26.265625 6.109375 33.40625 6.109375 \nQ 40.53125 6.109375 44.609375 11.75 \nQ 48.6875 17.390625 48.6875 27.296875 \nz\nM 18.109375 46.390625 \nQ 20.953125 51.265625 25.265625 53.625 \nQ 29.59375 56 35.59375 56 \nQ 45.5625 56 51.78125 48.09375 \nQ 58.015625 40.1875 58.015625 27.296875 \nQ 58.015625 14.40625 51.78125 6.484375 \nQ 45.5625 -1.421875 35.59375 -1.421875 \nQ 29.59375 -1.421875 25.265625 0.953125 \nQ 20.953125 3.328125 18.109375 8.203125 \nL 18.109375 0 \nL 9.078125 0 \nL 9.078125 75.984375 \nL 18.109375 75.984375 \nz\n\" id=\"DejaVuSans-98\"/>\n      <path d=\"M 9.421875 75.984375 \nL 18.40625 75.984375 \nL 18.40625 0 \nL 9.421875 0 \nz\n\" id=\"DejaVuSans-108\"/>\n     </defs>\n     <g transform=\"translate(159.195836 283.819378)scale(0.1 -0.1)\">\n      <use xlink:href=\"#DejaVuSans-80\"/>\n      <use x=\"60.287109\" xlink:href=\"#DejaVuSans-114\"/>\n      <use x=\"101.369141\" xlink:href=\"#DejaVuSans-101\"/>\n      <use x=\"162.892578\" xlink:href=\"#DejaVuSans-100\"/>\n      <use x=\"226.369141\" xlink:href=\"#DejaVuSans-105\"/>\n      <use x=\"254.152344\" xlink:href=\"#DejaVuSans-99\"/>\n      <use x=\"309.132812\" xlink:href=\"#DejaVuSans-116\"/>\n      <use x=\"348.341797\" xlink:href=\"#DejaVuSans-101\"/>\n      <use x=\"409.865234\" xlink:href=\"#DejaVuSans-100\"/>\n      <use x=\"473.341797\" xlink:href=\"#DejaVuSans-32\"/>\n      <use x=\"505.128906\" xlink:href=\"#DejaVuSans-76\"/>\n      <use x=\"560.841797\" xlink:href=\"#DejaVuSans-97\"/>\n      <use x=\"622.121094\" xlink:href=\"#DejaVuSans-98\"/>\n      <use x=\"685.597656\" xlink:href=\"#DejaVuSans-101\"/>\n      <use x=\"747.121094\" xlink:href=\"#DejaVuSans-108\"/>\n     </g>\n    </g>\n   </g>\n   <g id=\"matplotlib.axis_2\">\n    <g id=\"ytick_1\">\n     <g id=\"line2d_3\">\n      <defs>\n       <path d=\"M 0 0 \nL -3.5 0 \n\" id=\"m2357197b4c\" style=\"stroke:#000000;stroke-width:0.8;\"/>\n      </defs>\n      <g>\n       <use style=\"stroke:#000000;stroke-width:0.8;\" x=\"108.371875\" xlink:href=\"#m2357197b4c\" y=\"67.103543\"/>\n      </g>\n     </g>\n     <g id=\"text_4\">\n      <!-- no-side-effects -->\n      <g transform=\"translate(27.234375 70.902762)scale(0.1 -0.1)\">\n       <use xlink:href=\"#DejaVuSans-110\"/>\n       <use x=\"63.378906\" xlink:href=\"#DejaVuSans-111\"/>\n       <use x=\"124.576172\" xlink:href=\"#DejaVuSans-45\"/>\n       <use x=\"160.660156\" xlink:href=\"#DejaVuSans-115\"/>\n       <use x=\"212.759766\" xlink:href=\"#DejaVuSans-105\"/>\n       <use x=\"240.542969\" xlink:href=\"#DejaVuSans-100\"/>\n       <use x=\"304.019531\" xlink:href=\"#DejaVuSans-101\"/>\n       <use x=\"365.542969\" xlink:href=\"#DejaVuSans-45\"/>\n       <use x=\"401.626953\" xlink:href=\"#DejaVuSans-101\"/>\n       <use x=\"463.150391\" xlink:href=\"#DejaVuSans-102\"/>\n       <use x=\"498.355469\" xlink:href=\"#DejaVuSans-102\"/>\n       <use x=\"533.560547\" xlink:href=\"#DejaVuSans-101\"/>\n       <use x=\"595.083984\" xlink:href=\"#DejaVuSans-99\"/>\n       <use x=\"650.064453\" xlink:href=\"#DejaVuSans-116\"/>\n       <use x=\"689.273438\" xlink:href=\"#DejaVuSans-115\"/>\n      </g>\n     </g>\n    </g>\n    <g id=\"ytick_2\">\n     <g id=\"line2d_4\">\n      <g>\n       <use style=\"stroke:#000000;stroke-width:0.8;\" x=\"108.371875\" xlink:href=\"#m2357197b4c\" y=\"156.674378\"/>\n      </g>\n     </g>\n     <g id=\"text_5\">\n      <!-- had-side-effects -->\n      <g transform=\"translate(20.878125 160.473597)scale(0.1 -0.1)\">\n       <use xlink:href=\"#DejaVuSans-104\"/>\n       <use x=\"63.378906\" xlink:href=\"#DejaVuSans-97\"/>\n       <use x=\"124.658203\" xlink:href=\"#DejaVuSans-100\"/>\n       <use x=\"188.134766\" xlink:href=\"#DejaVuSans-45\"/>\n       <use x=\"224.21875\" xlink:href=\"#DejaVuSans-115\"/>\n       <use x=\"276.318359\" xlink:href=\"#DejaVuSans-105\"/>\n       <use x=\"304.101562\" xlink:href=\"#DejaVuSans-100\"/>\n       <use x=\"367.578125\" xlink:href=\"#DejaVuSans-101\"/>\n       <use x=\"429.101562\" xlink:href=\"#DejaVuSans-45\"/>\n       <use x=\"465.185547\" xlink:href=\"#DejaVuSans-101\"/>\n       <use x=\"526.708984\" xlink:href=\"#DejaVuSans-102\"/>\n       <use x=\"561.914062\" xlink:href=\"#DejaVuSans-102\"/>\n       <use x=\"597.119141\" xlink:href=\"#DejaVuSans-101\"/>\n       <use x=\"658.642578\" xlink:href=\"#DejaVuSans-99\"/>\n       <use x=\"713.623047\" xlink:href=\"#DejaVuSans-116\"/>\n       <use x=\"752.832031\" xlink:href=\"#DejaVuSans-115\"/>\n      </g>\n     </g>\n    </g>\n    <g id=\"text_6\">\n     <!-- True Label -->\n     <defs>\n      <path d=\"M -0.296875 72.90625 \nL 61.375 72.90625 \nL 61.375 64.59375 \nL 35.5 64.59375 \nL 35.5 0 \nL 25.59375 0 \nL 25.59375 64.59375 \nL -0.296875 64.59375 \nz\n\" id=\"DejaVuSans-84\"/>\n      <path d=\"M 8.5 21.578125 \nL 8.5 54.6875 \nL 17.484375 54.6875 \nL 17.484375 21.921875 \nQ 17.484375 14.15625 20.5 10.265625 \nQ 23.53125 6.390625 29.59375 6.390625 \nQ 36.859375 6.390625 41.078125 11.03125 \nQ 45.3125 15.671875 45.3125 23.6875 \nL 45.3125 54.6875 \nL 54.296875 54.6875 \nL 54.296875 0 \nL 45.3125 0 \nL 45.3125 8.40625 \nQ 42.046875 3.421875 37.71875 1 \nQ 33.40625 -1.421875 27.6875 -1.421875 \nQ 18.265625 -1.421875 13.375 4.4375 \nQ 8.5 10.296875 8.5 21.578125 \nz\nM 31.109375 56 \nz\n\" id=\"DejaVuSans-117\"/>\n     </defs>\n     <g transform=\"translate(14.798438 138.311617)rotate(-90)scale(0.1 -0.1)\">\n      <use xlink:href=\"#DejaVuSans-84\"/>\n      <use x=\"60.865234\" xlink:href=\"#DejaVuSans-114\"/>\n      <use x=\"101.978516\" xlink:href=\"#DejaVuSans-117\"/>\n      <use x=\"165.357422\" xlink:href=\"#DejaVuSans-101\"/>\n      <use x=\"226.880859\" xlink:href=\"#DejaVuSans-32\"/>\n      <use x=\"258.667969\" xlink:href=\"#DejaVuSans-76\"/>\n      <use x=\"314.380859\" xlink:href=\"#DejaVuSans-97\"/>\n      <use x=\"375.660156\" xlink:href=\"#DejaVuSans-98\"/>\n      <use x=\"439.136719\" xlink:href=\"#DejaVuSans-101\"/>\n      <use x=\"500.660156\" xlink:href=\"#DejaVuSans-108\"/>\n     </g>\n    </g>\n   </g>\n   <g id=\"patch_3\">\n    <path d=\"M 108.371875 201.459796 \nL 108.371875 22.318125 \n\" style=\"fill:none;stroke:#000000;stroke-linecap:square;stroke-linejoin:miter;stroke-width:0.8;\"/>\n   </g>\n   <g id=\"patch_4\">\n    <path d=\"M 287.513546 201.459796 \nL 287.513546 22.318125 \n\" style=\"fill:none;stroke:#000000;stroke-linecap:square;stroke-linejoin:miter;stroke-width:0.8;\"/>\n   </g>\n   <g id=\"patch_5\">\n    <path d=\"M 108.371875 201.459796 \nL 287.513546 201.459796 \n\" style=\"fill:none;stroke:#000000;stroke-linecap:square;stroke-linejoin:miter;stroke-width:0.8;\"/>\n   </g>\n   <g id=\"patch_6\">\n    <path d=\"M 108.371875 22.318125 \nL 287.513546 22.318125 \n\" style=\"fill:none;stroke:#000000;stroke-linecap:square;stroke-linejoin:miter;stroke-width:0.8;\"/>\n   </g>\n   <g id=\"text_7\">\n    <!-- 188 -->\n    <defs>\n     <path d=\"M 12.40625 8.296875 \nL 28.515625 8.296875 \nL 28.515625 63.921875 \nL 10.984375 60.40625 \nL 10.984375 69.390625 \nL 28.421875 72.90625 \nL 38.28125 72.90625 \nL 38.28125 8.296875 \nL 54.390625 8.296875 \nL 54.390625 0 \nL 12.40625 0 \nz\n\" id=\"DejaVuSans-49\"/>\n     <path d=\"M 31.78125 34.625 \nQ 24.75 34.625 20.71875 30.859375 \nQ 16.703125 27.09375 16.703125 20.515625 \nQ 16.703125 13.921875 20.71875 10.15625 \nQ 24.75 6.390625 31.78125 6.390625 \nQ 38.8125 6.390625 42.859375 10.171875 \nQ 46.921875 13.96875 46.921875 20.515625 \nQ 46.921875 27.09375 42.890625 30.859375 \nQ 38.875 34.625 31.78125 34.625 \nz\nM 21.921875 38.8125 \nQ 15.578125 40.375 12.03125 44.71875 \nQ 8.5 49.078125 8.5 55.328125 \nQ 8.5 64.0625 14.71875 69.140625 \nQ 20.953125 74.21875 31.78125 74.21875 \nQ 42.671875 74.21875 48.875 69.140625 \nQ 55.078125 64.0625 55.078125 55.328125 \nQ 55.078125 49.078125 51.53125 44.71875 \nQ 48 40.375 41.703125 38.8125 \nQ 48.828125 37.15625 52.796875 32.3125 \nQ 56.78125 27.484375 56.78125 20.515625 \nQ 56.78125 9.90625 50.3125 4.234375 \nQ 43.84375 -1.421875 31.78125 -1.421875 \nQ 19.734375 -1.421875 13.25 4.234375 \nQ 6.78125 9.90625 6.78125 20.515625 \nQ 6.78125 27.484375 10.78125 32.3125 \nQ 14.796875 37.15625 21.921875 38.8125 \nz\nM 18.3125 54.390625 \nQ 18.3125 48.734375 21.84375 45.5625 \nQ 25.390625 42.390625 31.78125 42.390625 \nQ 38.140625 42.390625 41.71875 45.5625 \nQ 45.3125 48.734375 45.3125 54.390625 \nQ 45.3125 60.0625 41.71875 63.234375 \nQ 38.140625 66.40625 31.78125 66.40625 \nQ 25.390625 66.40625 21.84375 63.234375 \nQ 18.3125 60.0625 18.3125 54.390625 \nz\n\" id=\"DejaVuSans-56\"/>\n    </defs>\n    <g style=\"fill:#ffffff;\" transform=\"translate(143.613543 67.103543)scale(0.1 -0.1)\">\n     <use xlink:href=\"#DejaVuSans-49\"/>\n     <use x=\"63.623047\" xlink:href=\"#DejaVuSans-56\"/>\n     <use x=\"127.246094\" xlink:href=\"#DejaVuSans-56\"/>\n    </g>\n   </g>\n   <g id=\"text_8\">\n    <!-- 22 -->\n    <defs>\n     <path d=\"M 19.1875 8.296875 \nL 53.609375 8.296875 \nL 53.609375 0 \nL 7.328125 0 \nL 7.328125 8.296875 \nQ 12.9375 14.109375 22.625 23.890625 \nQ 32.328125 33.6875 34.8125 36.53125 \nQ 39.546875 41.84375 41.421875 45.53125 \nQ 43.3125 49.21875 43.3125 52.78125 \nQ 43.3125 58.59375 39.234375 62.25 \nQ 35.15625 65.921875 28.609375 65.921875 \nQ 23.96875 65.921875 18.8125 64.3125 \nQ 13.671875 62.703125 7.8125 59.421875 \nL 7.8125 69.390625 \nQ 13.765625 71.78125 18.9375 73 \nQ 24.125 74.21875 28.421875 74.21875 \nQ 39.75 74.21875 46.484375 68.546875 \nQ 53.21875 62.890625 53.21875 53.421875 \nQ 53.21875 48.921875 51.53125 44.890625 \nQ 49.859375 40.875 45.40625 35.40625 \nQ 44.1875 33.984375 37.640625 27.21875 \nQ 31.109375 20.453125 19.1875 8.296875 \nz\n\" id=\"DejaVuSans-50\"/>\n    </defs>\n    <g transform=\"translate(236.365628 67.103543)scale(0.1 -0.1)\">\n     <use xlink:href=\"#DejaVuSans-50\"/>\n     <use x=\"63.623047\" xlink:href=\"#DejaVuSans-50\"/>\n    </g>\n   </g>\n   <g id=\"text_9\">\n    <!-- 10 -->\n    <defs>\n     <path d=\"M 31.78125 66.40625 \nQ 24.171875 66.40625 20.328125 58.90625 \nQ 16.5 51.421875 16.5 36.375 \nQ 16.5 21.390625 20.328125 13.890625 \nQ 24.171875 6.390625 31.78125 6.390625 \nQ 39.453125 6.390625 43.28125 13.890625 \nQ 47.125 21.390625 47.125 36.375 \nQ 47.125 51.421875 43.28125 58.90625 \nQ 39.453125 66.40625 31.78125 66.40625 \nz\nM 31.78125 74.21875 \nQ 44.046875 74.21875 50.515625 64.515625 \nQ 56.984375 54.828125 56.984375 36.375 \nQ 56.984375 17.96875 50.515625 8.265625 \nQ 44.046875 -1.421875 31.78125 -1.421875 \nQ 19.53125 -1.421875 13.0625 8.265625 \nQ 6.59375 17.96875 6.59375 36.375 \nQ 6.59375 54.828125 13.0625 64.515625 \nQ 19.53125 74.21875 31.78125 74.21875 \nz\n\" id=\"DejaVuSans-48\"/>\n    </defs>\n    <g transform=\"translate(146.794793 156.674378)scale(0.1 -0.1)\">\n     <use xlink:href=\"#DejaVuSans-49\"/>\n     <use x=\"63.623047\" xlink:href=\"#DejaVuSans-48\"/>\n    </g>\n   </g>\n   <g id=\"text_10\">\n    <!-- 200 -->\n    <g style=\"fill:#ffffff;\" transform=\"translate(233.184378 156.674378)scale(0.1 -0.1)\">\n     <use xlink:href=\"#DejaVuSans-50\"/>\n     <use x=\"63.623047\" xlink:href=\"#DejaVuSans-48\"/>\n     <use x=\"127.246094\" xlink:href=\"#DejaVuSans-48\"/>\n    </g>\n   </g>\n   <g id=\"text_11\">\n    <!-- Confusion Matrix -->\n    <defs>\n     <path d=\"M 64.40625 67.28125 \nL 64.40625 56.890625 \nQ 59.421875 61.53125 53.78125 63.8125 \nQ 48.140625 66.109375 41.796875 66.109375 \nQ 29.296875 66.109375 22.65625 58.46875 \nQ 16.015625 50.828125 16.015625 36.375 \nQ 16.015625 21.96875 22.65625 14.328125 \nQ 29.296875 6.6875 41.796875 6.6875 \nQ 48.140625 6.6875 53.78125 8.984375 \nQ 59.421875 11.28125 64.40625 15.921875 \nL 64.40625 5.609375 \nQ 59.234375 2.09375 53.4375 0.328125 \nQ 47.65625 -1.421875 41.21875 -1.421875 \nQ 24.65625 -1.421875 15.125 8.703125 \nQ 5.609375 18.84375 5.609375 36.375 \nQ 5.609375 53.953125 15.125 64.078125 \nQ 24.65625 74.21875 41.21875 74.21875 \nQ 47.75 74.21875 53.53125 72.484375 \nQ 59.328125 70.75 64.40625 67.28125 \nz\n\" id=\"DejaVuSans-67\"/>\n     <path d=\"M 9.8125 72.90625 \nL 24.515625 72.90625 \nL 43.109375 23.296875 \nL 61.8125 72.90625 \nL 76.515625 72.90625 \nL 76.515625 0 \nL 66.890625 0 \nL 66.890625 64.015625 \nL 48.09375 14.015625 \nL 38.1875 14.015625 \nL 19.390625 64.015625 \nL 19.390625 0 \nL 9.8125 0 \nz\n\" id=\"DejaVuSans-77\"/>\n     <path d=\"M 54.890625 54.6875 \nL 35.109375 28.078125 \nL 55.90625 0 \nL 45.3125 0 \nL 29.390625 21.484375 \nL 13.484375 0 \nL 2.875 0 \nL 24.125 28.609375 \nL 4.6875 54.6875 \nL 15.28125 54.6875 \nL 29.78125 35.203125 \nL 44.28125 54.6875 \nz\n\" id=\"DejaVuSans-120\"/>\n    </defs>\n    <g transform=\"translate(147.300836 16.318125)scale(0.12 -0.12)\">\n     <use xlink:href=\"#DejaVuSans-67\"/>\n     <use x=\"69.824219\" xlink:href=\"#DejaVuSans-111\"/>\n     <use x=\"131.005859\" xlink:href=\"#DejaVuSans-110\"/>\n     <use x=\"194.384766\" xlink:href=\"#DejaVuSans-102\"/>\n     <use x=\"229.589844\" xlink:href=\"#DejaVuSans-117\"/>\n     <use x=\"292.96875\" xlink:href=\"#DejaVuSans-115\"/>\n     <use x=\"345.068359\" xlink:href=\"#DejaVuSans-105\"/>\n     <use x=\"372.851562\" xlink:href=\"#DejaVuSans-111\"/>\n     <use x=\"434.033203\" xlink:href=\"#DejaVuSans-110\"/>\n     <use x=\"497.412109\" xlink:href=\"#DejaVuSans-32\"/>\n     <use x=\"529.199219\" xlink:href=\"#DejaVuSans-77\"/>\n     <use x=\"615.478516\" xlink:href=\"#DejaVuSans-97\"/>\n     <use x=\"676.757812\" xlink:href=\"#DejaVuSans-116\"/>\n     <use x=\"715.966797\" xlink:href=\"#DejaVuSans-114\"/>\n     <use x=\"757.080078\" xlink:href=\"#DejaVuSans-105\"/>\n     <use x=\"784.863281\" xlink:href=\"#DejaVuSans-120\"/>\n    </g>\n   </g>\n  </g>\n  <g id=\"axes_2\">\n   <g id=\"patch_7\">\n    <path clip-path=\"url(#p088626ec71)\" d=\"M 306.159796 201.459796 \nL 306.159796 200.760024 \nL 306.159796 23.017897 \nL 306.159796 22.318125 \nL 315.11688 22.318125 \nL 315.11688 23.017897 \nL 315.11688 200.760024 \nL 315.11688 201.459796 \nz\n\" style=\"fill:#ffffff;stroke:#ffffff;stroke-linejoin:miter;stroke-width:0.01;\"/>\n   </g>\n   <image height=\"179\" id=\"imagebf22899f9f\" transform=\"scale(1 -1)translate(0 -179)\" width=\"9\" x=\"306\" xlink:href=\"data:image/png;base64,\niVBORw0KGgoAAAANSUhEUgAAAAkAAACzCAYAAABbwDYDAAAABHNCSVQICAgIfAhkiAAAAPdJREFUWIXtl0EOAjEMA4PU/z+XA6IpT+gcRlZA7DmyvY6Tto/n65y6fOvca2rdS6pWE6QCUKtJ0QFQC0iiRYQOCYcWWG0J07E8ZVPwvaET2xKlm7gL/ilI021tFzAkrS0eXTega3a2aItVO8pQVKCZgA7mKZwCDQlpAn1hUUEN9oS/iXDTAoD04xbcgWBUNlliaO7eGpLXFjYtXu+0JYZS4B35jO7OhoUPtCC7xyda4A1Cg7sRRYreCzw608ywJm0Q9kQzQTLRcxIKR4NA/s7rnZgCywL2gJ9oZpZuogWFinoTJBKVNBKyIEvnWbA1pJEpyGqyovIBk7ioezNJMjcAAAAASUVORK5CYII=\" y=\"-22\"/>\n   <g id=\"matplotlib.axis_3\"/>\n   <g id=\"matplotlib.axis_4\">\n    <g id=\"ytick_3\">\n     <g id=\"line2d_5\">\n      <defs>\n       <path d=\"M 0 0 \nL 3.5 0 \n\" id=\"m490b421a51\" style=\"stroke:#000000;stroke-width:0.8;\"/>\n      </defs>\n      <g>\n       <use style=\"stroke:#000000;stroke-width:0.8;\" x=\"315.11688\" xlink:href=\"#m490b421a51\" y=\"187.317033\"/>\n      </g>\n     </g>\n     <g id=\"text_12\">\n      <!-- 25 -->\n      <defs>\n       <path d=\"M 10.796875 72.90625 \nL 49.515625 72.90625 \nL 49.515625 64.59375 \nL 19.828125 64.59375 \nL 19.828125 46.734375 \nQ 21.96875 47.46875 24.109375 47.828125 \nQ 26.265625 48.1875 28.421875 48.1875 \nQ 40.625 48.1875 47.75 41.5 \nQ 54.890625 34.8125 54.890625 23.390625 \nQ 54.890625 11.625 47.5625 5.09375 \nQ 40.234375 -1.421875 26.90625 -1.421875 \nQ 22.3125 -1.421875 17.546875 -0.640625 \nQ 12.796875 0.140625 7.71875 1.703125 \nL 7.71875 11.625 \nQ 12.109375 9.234375 16.796875 8.0625 \nQ 21.484375 6.890625 26.703125 6.890625 \nQ 35.15625 6.890625 40.078125 11.328125 \nQ 45.015625 15.765625 45.015625 23.390625 \nQ 45.015625 31 40.078125 35.4375 \nQ 35.15625 39.890625 26.703125 39.890625 \nQ 22.75 39.890625 18.8125 39.015625 \nQ 14.890625 38.140625 10.796875 36.28125 \nz\n\" id=\"DejaVuSans-53\"/>\n      </defs>\n      <g transform=\"translate(322.11688 191.116251)scale(0.1 -0.1)\">\n       <use xlink:href=\"#DejaVuSans-50\"/>\n       <use x=\"63.623047\" xlink:href=\"#DejaVuSans-53\"/>\n      </g>\n     </g>\n    </g>\n    <g id=\"ytick_4\">\n     <g id=\"line2d_6\">\n      <g>\n       <use style=\"stroke:#000000;stroke-width:0.8;\" x=\"315.11688\" xlink:href=\"#m490b421a51\" y=\"163.74576\"/>\n      </g>\n     </g>\n     <g id=\"text_13\">\n      <!-- 50 -->\n      <g transform=\"translate(322.11688 167.544979)scale(0.1 -0.1)\">\n       <use xlink:href=\"#DejaVuSans-53\"/>\n       <use x=\"63.623047\" xlink:href=\"#DejaVuSans-48\"/>\n      </g>\n     </g>\n    </g>\n    <g id=\"ytick_5\">\n     <g id=\"line2d_7\">\n      <g>\n       <use style=\"stroke:#000000;stroke-width:0.8;\" x=\"315.11688\" xlink:href=\"#m490b421a51\" y=\"140.174488\"/>\n      </g>\n     </g>\n     <g id=\"text_14\">\n      <!-- 75 -->\n      <defs>\n       <path d=\"M 8.203125 72.90625 \nL 55.078125 72.90625 \nL 55.078125 68.703125 \nL 28.609375 0 \nL 18.3125 0 \nL 43.21875 64.59375 \nL 8.203125 64.59375 \nz\n\" id=\"DejaVuSans-55\"/>\n      </defs>\n      <g transform=\"translate(322.11688 143.973706)scale(0.1 -0.1)\">\n       <use xlink:href=\"#DejaVuSans-55\"/>\n       <use x=\"63.623047\" xlink:href=\"#DejaVuSans-53\"/>\n      </g>\n     </g>\n    </g>\n    <g id=\"ytick_6\">\n     <g id=\"line2d_8\">\n      <g>\n       <use style=\"stroke:#000000;stroke-width:0.8;\" x=\"315.11688\" xlink:href=\"#m490b421a51\" y=\"116.603215\"/>\n      </g>\n     </g>\n     <g id=\"text_15\">\n      <!-- 100 -->\n      <g transform=\"translate(322.11688 120.402434)scale(0.1 -0.1)\">\n       <use xlink:href=\"#DejaVuSans-49\"/>\n       <use x=\"63.623047\" xlink:href=\"#DejaVuSans-48\"/>\n       <use x=\"127.246094\" xlink:href=\"#DejaVuSans-48\"/>\n      </g>\n     </g>\n    </g>\n    <g id=\"ytick_7\">\n     <g id=\"line2d_9\">\n      <g>\n       <use style=\"stroke:#000000;stroke-width:0.8;\" x=\"315.11688\" xlink:href=\"#m490b421a51\" y=\"93.031943\"/>\n      </g>\n     </g>\n     <g id=\"text_16\">\n      <!-- 125 -->\n      <g transform=\"translate(322.11688 96.831161)scale(0.1 -0.1)\">\n       <use xlink:href=\"#DejaVuSans-49\"/>\n       <use x=\"63.623047\" xlink:href=\"#DejaVuSans-50\"/>\n       <use x=\"127.246094\" xlink:href=\"#DejaVuSans-53\"/>\n      </g>\n     </g>\n    </g>\n    <g id=\"ytick_8\">\n     <g id=\"line2d_10\">\n      <g>\n       <use style=\"stroke:#000000;stroke-width:0.8;\" x=\"315.11688\" xlink:href=\"#m490b421a51\" y=\"69.46067\"/>\n      </g>\n     </g>\n     <g id=\"text_17\">\n      <!-- 150 -->\n      <g transform=\"translate(322.11688 73.259889)scale(0.1 -0.1)\">\n       <use xlink:href=\"#DejaVuSans-49\"/>\n       <use x=\"63.623047\" xlink:href=\"#DejaVuSans-53\"/>\n       <use x=\"127.246094\" xlink:href=\"#DejaVuSans-48\"/>\n      </g>\n     </g>\n    </g>\n    <g id=\"ytick_9\">\n     <g id=\"line2d_11\">\n      <g>\n       <use style=\"stroke:#000000;stroke-width:0.8;\" x=\"315.11688\" xlink:href=\"#m490b421a51\" y=\"45.889398\"/>\n      </g>\n     </g>\n     <g id=\"text_18\">\n      <!-- 175 -->\n      <g transform=\"translate(322.11688 49.688616)scale(0.1 -0.1)\">\n       <use xlink:href=\"#DejaVuSans-49\"/>\n       <use x=\"63.623047\" xlink:href=\"#DejaVuSans-55\"/>\n       <use x=\"127.246094\" xlink:href=\"#DejaVuSans-53\"/>\n      </g>\n     </g>\n    </g>\n    <g id=\"ytick_10\">\n     <g id=\"line2d_12\">\n      <g>\n       <use style=\"stroke:#000000;stroke-width:0.8;\" x=\"315.11688\" xlink:href=\"#m490b421a51\" y=\"22.318125\"/>\n      </g>\n     </g>\n     <g id=\"text_19\">\n      <!-- 200 -->\n      <g transform=\"translate(322.11688 26.117344)scale(0.1 -0.1)\">\n       <use xlink:href=\"#DejaVuSans-50\"/>\n       <use x=\"63.623047\" xlink:href=\"#DejaVuSans-48\"/>\n       <use x=\"127.246094\" xlink:href=\"#DejaVuSans-48\"/>\n      </g>\n     </g>\n    </g>\n   </g>\n   <g id=\"patch_8\">\n    <path d=\"M 306.159796 201.459796 \nL 306.159796 200.760024 \nL 306.159796 23.017897 \nL 306.159796 22.318125 \nL 315.11688 22.318125 \nL 315.11688 23.017897 \nL 315.11688 200.760024 \nL 315.11688 201.459796 \nz\n\" style=\"fill:none;stroke:#000000;stroke-linejoin:miter;stroke-width:0.8;\"/>\n   </g>\n  </g>\n </g>\n <defs>\n  <clipPath id=\"p9f425057bf\">\n   <rect height=\"179.141671\" width=\"179.141671\" x=\"108.371875\" y=\"22.318125\"/>\n  </clipPath>\n  <clipPath id=\"p088626ec71\">\n   <rect height=\"179.141671\" width=\"8.957084\" x=\"306.159796\" y=\"22.318125\"/>\n  </clipPath>\n </defs>\n</svg>\n",
      "image/png": "[encoded data removed]"
     },
     "metadata": {
      "needs_background": "light"
     }
    }
   ],
   "source": [
    "plot_confusion_matrix(classes, test_labels, predictions, acc=True)"
   ]
  },
  {
   "cell_type": "code",
   "execution_count": 8,
   "metadata": {
    "tags": []
   },
   "outputs": [
    {
     "output_type": "stream",
     "name": "stdout",
     "text": "Epoch 1/30\n210/210 - 1s - loss: 0.6902 - accuracy: 0.6081\nEpoch 2/30\n210/210 - 0s - loss: 0.6711 - accuracy: 0.7748\nEpoch 3/30\n210/210 - 0s - loss: 0.6523 - accuracy: 0.8000\nEpoch 4/30\n210/210 - 0s - loss: 0.6318 - accuracy: 0.8281\nEpoch 5/30\n210/210 - 0s - loss: 0.6102 - accuracy: 0.8471\nEpoch 6/30\n210/210 - 0s - loss: 0.5881 - accuracy: 0.8581\nEpoch 7/30\n210/210 - 0s - loss: 0.5654 - accuracy: 0.8690\nEpoch 8/30\n210/210 - 0s - loss: 0.5417 - accuracy: 0.8814\nEpoch 9/30\n210/210 - 0s - loss: 0.5176 - accuracy: 0.8786\nEpoch 10/30\n210/210 - 0s - loss: 0.4935 - accuracy: 0.8924\nEpoch 11/30\n210/210 - 0s - loss: 0.4701 - accuracy: 0.9024\nEpoch 12/30\n210/210 - 0s - loss: 0.4476 - accuracy: 0.9067\nEpoch 13/30\n210/210 - 0s - loss: 0.4267 - accuracy: 0.9038\nEpoch 14/30\n210/210 - 0s - loss: 0.4077 - accuracy: 0.9076\nEpoch 15/30\n210/210 - 0s - loss: 0.3904 - accuracy: 0.9148\nEpoch 16/30\n210/210 - 0s - loss: 0.3751 - accuracy: 0.9090\nEpoch 17/30\n210/210 - 0s - loss: 0.3618 - accuracy: 0.9152\nEpoch 18/30\n210/210 - 0s - loss: 0.3502 - accuracy: 0.9190\nEpoch 19/30\n210/210 - 0s - loss: 0.3401 - accuracy: 0.9195\nEpoch 20/30\n210/210 - 0s - loss: 0.3312 - accuracy: 0.9195\nEpoch 21/30\n210/210 - 0s - loss: 0.3236 - accuracy: 0.9219\nEpoch 22/30\n210/210 - 0s - loss: 0.3169 - accuracy: 0.9271\nEpoch 23/30\n210/210 - 0s - loss: 0.3110 - accuracy: 0.9271\nEpoch 24/30\n210/210 - 0s - loss: 0.3060 - accuracy: 0.9267\nEpoch 25/30\n210/210 - 0s - loss: 0.3014 - accuracy: 0.9286\nEpoch 26/30\n210/210 - 0s - loss: 0.2975 - accuracy: 0.9252\nEpoch 27/30\n210/210 - 0s - loss: 0.2940 - accuracy: 0.9271\nEpoch 28/30\n210/210 - 0s - loss: 0.2908 - accuracy: 0.9271\nEpoch 29/30\n210/210 - 0s - loss: 0.2882 - accuracy: 0.9286\nEpoch 30/30\n210/210 - 0s - loss: 0.2856 - accuracy: 0.9300\n"
    }
   ],
   "source": [
    "model = create_model()\n",
    "model = train_model(model, x_train=scaled_train_samples, y_train=train_labels)"
   ]
  },
  {
   "cell_type": "code",
   "execution_count": 20,
   "metadata": {},
   "outputs": [],
   "source": [
    "## saving the entire model\n",
    "save_model(model=model, model_name='model_0.h5', value=0)"
   ]
  },
  {
   "cell_type": "code",
   "execution_count": 21,
   "metadata": {
    "tags": []
   },
   "outputs": [
    {
     "output_type": "stream",
     "name": "stdout",
     "text": "Model: \"sequential\"\n_________________________________________________________________\nLayer (type)                 Output Shape              Param #   \n=================================================================\ndense (Dense)                (None, 16)                32        \n_________________________________________________________________\ndense_1 (Dense)              (None, 32)                544       \n_________________________________________________________________\ndense_2 (Dense)              (None, 1)                 33        \n=================================================================\nTotal params: 609\nTrainable params: 609\nNon-trainable params: 0\n_________________________________________________________________\n"
    }
   ],
   "source": [
    "## loading the entire model\n",
    "model = load_models(model_name='model_0.h5', value=0)\n",
    "model.summary()"
   ]
  },
  {
   "cell_type": "code",
   "execution_count": 29,
   "metadata": {},
   "outputs": [],
   "source": [
    "## saving only the architecture of the model\n",
    "save_model(model=model, model_name='model_1.json', value=1)"
   ]
  },
  {
   "cell_type": "code",
   "execution_count": 33,
   "metadata": {
    "tags": []
   },
   "outputs": [
    {
     "output_type": "stream",
     "name": "stdout",
     "text": "Model: \"sequential\"\n_________________________________________________________________\nLayer (type)                 Output Shape              Param #   \n=================================================================\ndense (Dense)                (None, 16)                32        \n_________________________________________________________________\ndense_1 (Dense)              (None, 32)                544       \n_________________________________________________________________\ndense_2 (Dense)              (None, 1)                 33        \n=================================================================\nTotal params: 609\nTrainable params: 609\nNon-trainable params: 0\n_________________________________________________________________\n"
    }
   ],
   "source": [
    "## loading the architecture of the model\n",
    "model = load_models(model_name='model_1.json', value=1)\n",
    "\n",
    "model.summary()"
   ]
  },
  {
   "cell_type": "code",
   "execution_count": 37,
   "metadata": {},
   "outputs": [],
   "source": [
    "## saving the weights\n",
    "save_model(model=model, model_name='model_2.h5', value=2)"
   ]
  },
  {
   "cell_type": "code",
   "execution_count": 40,
   "metadata": {},
   "outputs": [],
   "source": [
    "## loading weights\n",
    "model_2 = Sequential([\n",
    "    Dense(units=16, input_shape=(1,), activation='relu'),\n",
    "    Dense(units=32, activation='relu'),\n",
    "    Dense(units=1, activation='sigmoid')\n",
    "])\n",
    "\n",
    "model_2 = load_models(model_name='model_2.h5', value=2, model=model_2)"
   ]
  },
  {
   "cell_type": "code",
   "execution_count": 41,
   "metadata": {
    "tags": []
   },
   "outputs": [
    {
     "output_type": "stream",
     "name": "stdout",
     "text": "Model: \"sequential_3\"\n_________________________________________________________________\nLayer (type)                 Output Shape              Param #   \n=================================================================\ndense_9 (Dense)              (None, 16)                32        \n_________________________________________________________________\ndense_10 (Dense)             (None, 32)                544       \n_________________________________________________________________\ndense_11 (Dense)             (None, 1)                 33        \n=================================================================\nTotal params: 609\nTrainable params: 609\nNon-trainable params: 0\n_________________________________________________________________\n"
    }
   ],
   "source": [
    "model_2.summary()"
   ]
  }
 ]
}